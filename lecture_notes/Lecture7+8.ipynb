{
 "cells": [
  {
   "cell_type": "markdown",
   "metadata": {},
   "source": [
    "# Linear Regression"
   ]
  },
  {
   "cell_type": "markdown",
   "metadata": {},
   "source": [
    "Load the usual libraries + statsmodels used for regression analysis."
   ]
  },
  {
   "cell_type": "code",
   "execution_count": 1,
   "metadata": {},
   "outputs": [],
   "source": [
    "import numpy as np\n",
    "import matplotlib.pyplot as plt\n",
    "import scipy.stats as sp\n",
    "import statsmodels.api as sm"
   ]
  },
  {
   "cell_type": "markdown",
   "metadata": {},
   "source": [
    "Run regression through points (x,y) = [(0,0),(1,1),(2,1),(3,2)]."
   ]
  },
  {
   "cell_type": "code",
   "execution_count": 37,
   "metadata": {},
   "outputs": [
    {
     "name": "stdout",
     "output_type": "stream",
     "text": [
      "                            OLS Regression Results                            \n",
      "==============================================================================\n",
      "Dep. Variable:                      y   R-squared:                       0.900\n",
      "Model:                            OLS   Adj. R-squared:                  0.850\n",
      "Method:                 Least Squares   F-statistic:                     18.00\n",
      "Date:                Tue, 05 Nov 2019   Prob (F-statistic):             0.0513\n",
      "Time:                        12:58:33   Log-Likelihood:                0.31571\n",
      "No. Observations:                   4   AIC:                             3.369\n",
      "Df Residuals:                       2   BIC:                             2.141\n",
      "Df Model:                           1                                         \n",
      "Covariance Type:            nonrobust                                         \n",
      "==============================================================================\n",
      "                 coef    std err          t      P>|t|      [0.025      0.975]\n",
      "------------------------------------------------------------------------------\n",
      "const          0.1000      0.265      0.378      0.742      -1.038       1.238\n",
      "x1             0.6000      0.141      4.243      0.051      -0.008       1.208\n",
      "==============================================================================\n",
      "Omnibus:                          nan   Durbin-Watson:                   3.400\n",
      "Prob(Omnibus):                    nan   Jarque-Bera (JB):                0.308\n",
      "Skew:                           0.000   Prob(JB):                        0.857\n",
      "Kurtosis:                       1.640   Cond. No.                         3.76\n",
      "==============================================================================\n",
      "\n",
      "Warnings:\n",
      "[1] Standard Errors assume that the covariance matrix of the errors is correctly specified.\n"
     ]
    },
    {
     "name": "stderr",
     "output_type": "stream",
     "text": [
      "C:\\Users\\Jan Vecer\\Anaconda3\\lib\\site-packages\\statsmodels\\stats\\stattools.py:71: ValueWarning: omni_normtest is not valid with less than 8 observations; 4 samples were given.\n",
      "  \"samples were given.\" % int(n), ValueWarning)\n"
     ]
    }
   ],
   "source": [
    "x=[0,1,2,3]\n",
    "y=[0,1,1,2]\n",
    "\n",
    "x = np.asarray(x)\n",
    "y = np.asarray(y)\n",
    "\n",
    "model = sm.OLS(y,sm.add_constant(x))\n",
    "\n",
    "coefs = model.fit().params\n",
    "residuals = model.fit().resid\n",
    "\n",
    "print(model.fit().summary())"
   ]
  },
  {
   "cell_type": "code",
   "execution_count": 38,
   "metadata": {},
   "outputs": [
    {
     "name": "stdout",
     "output_type": "stream",
     "text": [
      "                                 OLS Regression Results                                \n",
      "=======================================================================================\n",
      "Dep. Variable:                      y   R-squared (uncentered):                   0.964\n",
      "Model:                            OLS   Adj. R-squared (uncentered):              0.952\n",
      "Method:                 Least Squares   F-statistic:                              81.00\n",
      "Date:                Tue, 05 Nov 2019   Prob (F-statistic):                     0.00290\n",
      "Time:                        12:59:42   Log-Likelihood:                         0.17772\n",
      "No. Observations:                   4   AIC:                                      1.645\n",
      "Df Residuals:                       3   BIC:                                      1.031\n",
      "Df Model:                           1                                                  \n",
      "Covariance Type:            nonrobust                                                  \n",
      "==============================================================================\n",
      "                 coef    std err          t      P>|t|      [0.025      0.975]\n",
      "------------------------------------------------------------------------------\n",
      "x1             0.6429      0.071      9.000      0.003       0.416       0.870\n",
      "==============================================================================\n",
      "Omnibus:                          nan   Durbin-Watson:                   3.119\n",
      "Prob(Omnibus):                    nan   Jarque-Bera (JB):                0.183\n",
      "Skew:                           0.000   Prob(JB):                        0.913\n",
      "Kurtosis:                       1.952   Cond. No.                         1.00\n",
      "==============================================================================\n",
      "\n",
      "Warnings:\n",
      "[1] Standard Errors assume that the covariance matrix of the errors is correctly specified.\n"
     ]
    },
    {
     "name": "stderr",
     "output_type": "stream",
     "text": [
      "C:\\Users\\Jan Vecer\\Anaconda3\\lib\\site-packages\\statsmodels\\stats\\stattools.py:71: ValueWarning: omni_normtest is not valid with less than 8 observations; 4 samples were given.\n",
      "  \"samples were given.\" % int(n), ValueWarning)\n"
     ]
    }
   ],
   "source": [
    "model2 = sm.OLS(y,x)\n",
    "\n",
    "coefs2 = model2.fit().params\n",
    "residuals2 = model2.fit().resid\n",
    "\n",
    "print(model2.fit().summary())"
   ]
  },
  {
   "cell_type": "markdown",
   "metadata": {},
   "source": [
    "Plot the points with the regression line."
   ]
  },
  {
   "cell_type": "code",
   "execution_count": 39,
   "metadata": {},
   "outputs": [
    {
     "data": {
      "image/png": "[encoded data removed]",
      "text/plain": [
       "<Figure size 432x288 with 1 Axes>"
      ]
     },
     "metadata": {
      "needs_background": "light"
     },
     "output_type": "display_data"
    }
   ],
   "source": [
    "plt.figure(1)\n",
    "plt.plot(x,y,'bo',ms=6)\n",
    "\n",
    "xx=np.linspace(np.min(x)-1,np.max(x)+1,100)\n",
    "plt.plot(xx,coefs[0]+coefs[1]*xx,'r')\n",
    "\n",
    "plt.plot(xx,coefs2[0]*xx,'k',linestyle='--')\n",
    "\n",
    "plt.xlabel('x')\n",
    "plt.ylabel('y')\n",
    "\n",
    "plt.grid()\n",
    "plt.show()"
   ]
  },
  {
   "cell_type": "markdown",
   "metadata": {},
   "source": [
    "Residuals."
   ]
  },
  {
   "cell_type": "code",
   "execution_count": 40,
   "metadata": {},
   "outputs": [
    {
     "name": "stdout",
     "output_type": "stream",
     "text": [
      "[-0.1  0.3 -0.3  0.1]\n"
     ]
    }
   ],
   "source": [
    "print(residuals)"
   ]
  },
  {
   "cell_type": "markdown",
   "metadata": {},
   "source": [
    "They sum up to one. Except the computer has a limited precision and thus this is only a technical zero.\n",
    "\n",
    "This serves as a warning not to test for the exact zero (x == 0) in the Python code. One should use tests using a precision, like (np.abs(x) < epsilon). "
   ]
  },
  {
   "cell_type": "code",
   "execution_count": 6,
   "metadata": {},
   "outputs": [
    {
     "data": {
      "text/plain": [
       "-7.771561172376096e-16"
      ]
     },
     "execution_count": 6,
     "metadata": {},
     "output_type": "execute_result"
    }
   ],
   "source": [
    "np.sum(residuals)"
   ]
  },
  {
   "cell_type": "markdown",
   "metadata": {},
   "source": [
    "Residuals u are orthogonal to data x."
   ]
  },
  {
   "cell_type": "code",
   "execution_count": 7,
   "metadata": {},
   "outputs": [
    {
     "name": "stdout",
     "output_type": "stream",
     "text": [
      "[-0.   0.3 -0.6  0.3]\n"
     ]
    }
   ],
   "source": [
    "print(residuals*x)"
   ]
  },
  {
   "cell_type": "markdown",
   "metadata": {},
   "source": [
    "Again, it should add to zero, or at least be close to it."
   ]
  },
  {
   "cell_type": "code",
   "execution_count": 8,
   "metadata": {},
   "outputs": [
    {
     "data": {
      "text/plain": [
       "-2.3314683517128287e-15"
      ]
     },
     "execution_count": 8,
     "metadata": {},
     "output_type": "execute_result"
    }
   ],
   "source": [
    "np.sum(residuals*x)"
   ]
  },
  {
   "cell_type": "markdown",
   "metadata": {},
   "source": [
    "This is the standard deviation of the slope. It is listed in the regression printout table."
   ]
  },
  {
   "cell_type": "code",
   "execution_count": 355,
   "metadata": {},
   "outputs": [
    {
     "name": "stdout",
     "output_type": "stream",
     "text": [
      "0.1414213562373095\n"
     ]
    }
   ],
   "source": [
    "std = np.sqrt((np.sum(residuals**2)/2)/np.sum((x-np.mean(x))**2))\n",
    "print(std)"
   ]
  },
  {
   "cell_type": "markdown",
   "metadata": {},
   "source": [
    "This is the T statistics. How far is the coefficient b from zero in terms of standard deviations."
   ]
  },
  {
   "cell_type": "code",
   "execution_count": 356,
   "metadata": {},
   "outputs": [
    {
     "name": "stdout",
     "output_type": "stream",
     "text": [
      "4.2426406871192865\n"
     ]
    }
   ],
   "source": [
    "t = coefs[1]/std\n",
    "print(t)"
   ]
  },
  {
   "cell_type": "markdown",
   "metadata": {},
   "source": [
    "And what is the probability that this happens randomly from a distribution with zero mean? This is known as a P-value."
   ]
  },
  {
   "cell_type": "code",
   "execution_count": 358,
   "metadata": {},
   "outputs": [
    {
     "data": {
      "text/plain": [
       "0.05131670194948601"
      ]
     },
     "execution_count": 358,
     "metadata": {},
     "output_type": "execute_result"
    }
   ],
   "source": [
    "2*(1-sp.t.cdf(t,2))"
   ]
  },
  {
   "cell_type": "markdown",
   "metadata": {},
   "source": [
    "We used the t-distribution as the exact value of the std is not known and it has to be estimated form the data. This leads to a distribution with fatter tails. Let us plot the t distribution with various degrees of freedom (n=1,2,3,4). The blue function is the normal distribution. "
   ]
  },
  {
   "cell_type": "code",
   "execution_count": 331,
   "metadata": {},
   "outputs": [
    {
     "data": {
      "image/png": "[encoded data removed]",
      "text/plain": [
       "<Figure size 432x288 with 1 Axes>"
      ]
     },
     "metadata": {
      "needs_background": "light"
     },
     "output_type": "display_data"
    }
   ],
   "source": [
    "xx = np.linspace(-4,4,250)\n",
    "\n",
    "plt.figure(2)\n",
    "plt.plot(xx,sp.norm.pdf(xx))\n",
    "\n",
    "for i in range(1,5):\n",
    "    plt.plot(xx,sp.t.pdf(xx,i))\n",
    "\n",
    "\n",
    "plt.xlabel('x')\n",
    "plt.ylabel('Density')\n",
    "plt.grid()\n",
    "plt.show()"
   ]
  },
  {
   "cell_type": "markdown",
   "metadata": {},
   "source": [
    "Obviously \n",
    "\n",
    "t(n-1) -> N(0,1)\n",
    "\n",
    "since S**2 -> sigma**2\n",
    "\n",
    "This means that the respective quantiles of the t-distribution will get closer to the normal quantiles. \n",
    "\n",
    "Here is the example of the 97.5% quantile. It get down to 2 relatively quickly, meaning that one should be mostly aware for possible large deviations when the number of data is very small."
   ]
  },
  {
   "cell_type": "code",
   "execution_count": 345,
   "metadata": {},
   "outputs": [
    {
     "name": "stdout",
     "output_type": "stream",
     "text": [
      "1 12.706204736432095\n",
      "2 4.302652729911275\n",
      "3 3.182446305284263\n",
      "4 2.7764451051977987\n",
      "5 2.5705818366147395\n",
      "6 2.4469118487916806\n",
      "7 2.3646242510102993\n",
      "8 2.3060041350333704\n",
      "9 2.2621571627409915\n",
      "10 2.2281388519649385\n",
      "11 2.200985160082949\n",
      "12 2.1788128296634177\n",
      "13 2.1603686564610127\n",
      "14 2.1447866879169273\n",
      "15 2.131449545559323\n",
      "16 2.1199052992210112\n",
      "17 2.1098155778331806\n",
      "18 2.10092204024096\n",
      "19 2.093024054408263\n",
      "20 2.0859634472658364\n",
      "21 2.079613844727662\n",
      "22 2.0738730679040147\n",
      "23 2.0686576104190406\n",
      "24 2.0638985616280205\n",
      "25 2.059538552753294\n",
      "26 2.055529438642871\n",
      "27 2.0518305164802833\n",
      "28 2.048407141795244\n",
      "29 2.045229642132703\n",
      "30 2.0422724563012373\n"
     ]
    }
   ],
   "source": [
    "for i in range(1,31):\n",
    "    print(i,sp.t.ppf(0.975,i,0,1))"
   ]
  },
  {
   "cell_type": "markdown",
   "metadata": {},
   "source": [
    "The 97.5% quantile of the t distribution gets below 2 for 61 degrees of freedom."
   ]
  },
  {
   "cell_type": "code",
   "execution_count": 346,
   "metadata": {},
   "outputs": [
    {
     "name": "stdout",
     "output_type": "stream",
     "text": [
      "61 1.9996235841149779\n"
     ]
    }
   ],
   "source": [
    "i=1\n",
    "while sp.t.ppf(0.975,i,0,1) > 2:\n",
    "    i=i+1\n",
    "print(i,sp.t.ppf(0.975,i,0,1))    "
   ]
  },
  {
   "cell_type": "markdown",
   "metadata": {},
   "source": [
    "# ECB Exchange Rate Data"
   ]
  },
  {
   "cell_type": "markdown",
   "metadata": {},
   "source": [
    "Load pandas libraries."
   ]
  },
  {
   "cell_type": "code",
   "execution_count": 2,
   "metadata": {},
   "outputs": [],
   "source": [
    "from pandas_datareader import data \n",
    "import pandas as pd"
   ]
  },
  {
   "cell_type": "markdown",
   "metadata": {},
   "source": [
    "And specific libraries needed for ECB FX rates data."
   ]
  },
  {
   "cell_type": "code",
   "execution_count": 4,
   "metadata": {},
   "outputs": [],
   "source": [
    "from urllib.request import urlopen\n",
    "from zipfile import ZipFile\n",
    "from io import BytesIO"
   ]
  },
  {
   "cell_type": "markdown",
   "metadata": {},
   "source": [
    "The ECB updates the FX rates file daily on their website. The code downloads it, unzips it and reads it as the dataframe."
   ]
  },
  {
   "cell_type": "code",
   "execution_count": 41,
   "metadata": {},
   "outputs": [],
   "source": [
    "z = urlopen(\"https://www.ecb.europa.eu/stats/eurofxref/eurofxref-hist.zip\")\n",
    "myzip = ZipFile(BytesIO(z.read())).extract('eurofxref-hist.csv')\n",
    "df = pd.read_csv(myzip)"
   ]
  },
  {
   "cell_type": "code",
   "execution_count": 42,
   "metadata": {},
   "outputs": [
    {
     "data": {
      "text/html": [
       "<div>\n",
       "<style scoped>\n",
       "    .dataframe tbody tr th:only-of-type {\n",
       "        vertical-align: middle;\n",
       "    }\n",
       "\n",
       "    .dataframe tbody tr th {\n",
       "        vertical-align: top;\n",
       "    }\n",
       "\n",
       "    .dataframe thead th {\n",
       "        text-align: right;\n",
       "    }\n",
       "</style>\n",
       "<table border=\"1\" class=\"dataframe\">\n",
       "  <thead>\n",
       "    <tr style=\"text-align: right;\">\n",
       "      <th></th>\n",
       "      <th>Date</th>\n",
       "      <th>USD</th>\n",
       "      <th>JPY</th>\n",
       "      <th>BGN</th>\n",
       "      <th>CYP</th>\n",
       "      <th>CZK</th>\n",
       "      <th>DKK</th>\n",
       "      <th>EEK</th>\n",
       "      <th>GBP</th>\n",
       "      <th>HUF</th>\n",
       "      <th>...</th>\n",
       "      <th>INR</th>\n",
       "      <th>KRW</th>\n",
       "      <th>MXN</th>\n",
       "      <th>MYR</th>\n",
       "      <th>NZD</th>\n",
       "      <th>PHP</th>\n",
       "      <th>SGD</th>\n",
       "      <th>THB</th>\n",
       "      <th>ZAR</th>\n",
       "      <th>Unnamed: 42</th>\n",
       "    </tr>\n",
       "  </thead>\n",
       "  <tbody>\n",
       "    <tr>\n",
       "      <th>0</th>\n",
       "      <td>2019-11-04</td>\n",
       "      <td>1.1158</td>\n",
       "      <td>120.93</td>\n",
       "      <td>1.9558</td>\n",
       "      <td>NaN</td>\n",
       "      <td>25.511</td>\n",
       "      <td>7.4713</td>\n",
       "      <td>NaN</td>\n",
       "      <td>0.86368</td>\n",
       "      <td>328.78</td>\n",
       "      <td>...</td>\n",
       "      <td>78.9205</td>\n",
       "      <td>1296.92</td>\n",
       "      <td>21.3095</td>\n",
       "      <td>4.6311</td>\n",
       "      <td>1.7358</td>\n",
       "      <td>56.376</td>\n",
       "      <td>1.5146</td>\n",
       "      <td>33.689</td>\n",
       "      <td>16.5296</td>\n",
       "      <td>NaN</td>\n",
       "    </tr>\n",
       "    <tr>\n",
       "      <th>1</th>\n",
       "      <td>2019-11-01</td>\n",
       "      <td>1.1139</td>\n",
       "      <td>120.43</td>\n",
       "      <td>1.9558</td>\n",
       "      <td>NaN</td>\n",
       "      <td>25.514</td>\n",
       "      <td>7.4712</td>\n",
       "      <td>NaN</td>\n",
       "      <td>0.86008</td>\n",
       "      <td>328.33</td>\n",
       "      <td>...</td>\n",
       "      <td>78.8160</td>\n",
       "      <td>1300.09</td>\n",
       "      <td>21.3164</td>\n",
       "      <td>4.6400</td>\n",
       "      <td>1.7326</td>\n",
       "      <td>56.286</td>\n",
       "      <td>1.5129</td>\n",
       "      <td>33.623</td>\n",
       "      <td>16.8280</td>\n",
       "      <td>NaN</td>\n",
       "    </tr>\n",
       "    <tr>\n",
       "      <th>2</th>\n",
       "      <td>2019-10-31</td>\n",
       "      <td>1.1154</td>\n",
       "      <td>120.73</td>\n",
       "      <td>1.9558</td>\n",
       "      <td>NaN</td>\n",
       "      <td>25.509</td>\n",
       "      <td>7.4708</td>\n",
       "      <td>NaN</td>\n",
       "      <td>0.86133</td>\n",
       "      <td>328.70</td>\n",
       "      <td>...</td>\n",
       "      <td>79.1125</td>\n",
       "      <td>1302.87</td>\n",
       "      <td>21.3265</td>\n",
       "      <td>4.6607</td>\n",
       "      <td>1.7359</td>\n",
       "      <td>56.704</td>\n",
       "      <td>1.5174</td>\n",
       "      <td>33.668</td>\n",
       "      <td>16.9120</td>\n",
       "      <td>NaN</td>\n",
       "    </tr>\n",
       "    <tr>\n",
       "      <th>3</th>\n",
       "      <td>2019-10-30</td>\n",
       "      <td>1.1106</td>\n",
       "      <td>120.99</td>\n",
       "      <td>1.9558</td>\n",
       "      <td>NaN</td>\n",
       "      <td>25.512</td>\n",
       "      <td>7.4709</td>\n",
       "      <td>NaN</td>\n",
       "      <td>0.86200</td>\n",
       "      <td>329.72</td>\n",
       "      <td>...</td>\n",
       "      <td>78.7705</td>\n",
       "      <td>1297.21</td>\n",
       "      <td>21.2538</td>\n",
       "      <td>4.6423</td>\n",
       "      <td>1.7504</td>\n",
       "      <td>56.591</td>\n",
       "      <td>1.5141</td>\n",
       "      <td>33.580</td>\n",
       "      <td>16.5609</td>\n",
       "      <td>NaN</td>\n",
       "    </tr>\n",
       "    <tr>\n",
       "      <th>4</th>\n",
       "      <td>2019-10-29</td>\n",
       "      <td>1.1095</td>\n",
       "      <td>120.88</td>\n",
       "      <td>1.9558</td>\n",
       "      <td>NaN</td>\n",
       "      <td>25.543</td>\n",
       "      <td>7.4706</td>\n",
       "      <td>NaN</td>\n",
       "      <td>0.86328</td>\n",
       "      <td>328.78</td>\n",
       "      <td>...</td>\n",
       "      <td>78.6150</td>\n",
       "      <td>1295.86</td>\n",
       "      <td>21.1812</td>\n",
       "      <td>4.6410</td>\n",
       "      <td>1.7481</td>\n",
       "      <td>56.623</td>\n",
       "      <td>1.5121</td>\n",
       "      <td>33.524</td>\n",
       "      <td>16.2241</td>\n",
       "      <td>NaN</td>\n",
       "    </tr>\n",
       "  </tbody>\n",
       "</table>\n",
       "<p>5 rows × 43 columns</p>\n",
       "</div>"
      ],
      "text/plain": [
       "         Date     USD     JPY     BGN  CYP     CZK     DKK  EEK      GBP  \\\n",
       "0  2019-11-04  1.1158  120.93  1.9558  NaN  25.511  7.4713  NaN  0.86368   \n",
       "1  2019-11-01  1.1139  120.43  1.9558  NaN  25.514  7.4712  NaN  0.86008   \n",
       "2  2019-10-31  1.1154  120.73  1.9558  NaN  25.509  7.4708  NaN  0.86133   \n",
       "3  2019-10-30  1.1106  120.99  1.9558  NaN  25.512  7.4709  NaN  0.86200   \n",
       "4  2019-10-29  1.1095  120.88  1.9558  NaN  25.543  7.4706  NaN  0.86328   \n",
       "\n",
       "      HUF  ...      INR      KRW      MXN     MYR     NZD     PHP     SGD  \\\n",
       "0  328.78  ...  78.9205  1296.92  21.3095  4.6311  1.7358  56.376  1.5146   \n",
       "1  328.33  ...  78.8160  1300.09  21.3164  4.6400  1.7326  56.286  1.5129   \n",
       "2  328.70  ...  79.1125  1302.87  21.3265  4.6607  1.7359  56.704  1.5174   \n",
       "3  329.72  ...  78.7705  1297.21  21.2538  4.6423  1.7504  56.591  1.5141   \n",
       "4  328.78  ...  78.6150  1295.86  21.1812  4.6410  1.7481  56.623  1.5121   \n",
       "\n",
       "      THB      ZAR  Unnamed: 42  \n",
       "0  33.689  16.5296          NaN  \n",
       "1  33.623  16.8280          NaN  \n",
       "2  33.668  16.9120          NaN  \n",
       "3  33.580  16.5609          NaN  \n",
       "4  33.524  16.2241          NaN  \n",
       "\n",
       "[5 rows x 43 columns]"
      ]
     },
     "execution_count": 42,
     "metadata": {},
     "output_type": "execute_result"
    }
   ],
   "source": [
    "df.head()"
   ]
  },
  {
   "cell_type": "markdown",
   "metadata": {},
   "source": [
    "Let us drop the currencies with missing values (usually minor currencies). The second command reorders the data starting from the oldest observation (January 1999). Use Date as an index and insert a constant EUR/EUR exchange rate = 1 (useful in automated currency conversion)."
   ]
  },
  {
   "cell_type": "code",
   "execution_count": 43,
   "metadata": {},
   "outputs": [],
   "source": [
    "df1 = df.dropna(axis='columns')\n",
    "df1 = df1[::-1]\n",
    "df1 = df1.reset_index(drop=True)\n",
    "df1.insert(1, 'EUR', 1)"
   ]
  },
  {
   "cell_type": "code",
   "execution_count": 44,
   "metadata": {},
   "outputs": [
    {
     "data": {
      "text/html": [
       "<div>\n",
       "<style scoped>\n",
       "    .dataframe tbody tr th:only-of-type {\n",
       "        vertical-align: middle;\n",
       "    }\n",
       "\n",
       "    .dataframe tbody tr th {\n",
       "        vertical-align: top;\n",
       "    }\n",
       "\n",
       "    .dataframe thead th {\n",
       "        text-align: right;\n",
       "    }\n",
       "</style>\n",
       "<table border=\"1\" class=\"dataframe\">\n",
       "  <thead>\n",
       "    <tr style=\"text-align: right;\">\n",
       "      <th></th>\n",
       "      <th>Date</th>\n",
       "      <th>EUR</th>\n",
       "      <th>USD</th>\n",
       "      <th>JPY</th>\n",
       "      <th>CZK</th>\n",
       "      <th>DKK</th>\n",
       "      <th>GBP</th>\n",
       "      <th>HUF</th>\n",
       "      <th>PLN</th>\n",
       "      <th>SEK</th>\n",
       "      <th>CHF</th>\n",
       "      <th>NOK</th>\n",
       "      <th>AUD</th>\n",
       "      <th>CAD</th>\n",
       "      <th>HKD</th>\n",
       "      <th>KRW</th>\n",
       "      <th>NZD</th>\n",
       "      <th>SGD</th>\n",
       "      <th>ZAR</th>\n",
       "    </tr>\n",
       "  </thead>\n",
       "  <tbody>\n",
       "    <tr>\n",
       "      <th>0</th>\n",
       "      <td>1999-01-04</td>\n",
       "      <td>1</td>\n",
       "      <td>1.1789</td>\n",
       "      <td>133.73</td>\n",
       "      <td>35.107</td>\n",
       "      <td>7.4501</td>\n",
       "      <td>0.71110</td>\n",
       "      <td>251.48</td>\n",
       "      <td>4.0712</td>\n",
       "      <td>9.4696</td>\n",
       "      <td>1.6168</td>\n",
       "      <td>8.8550</td>\n",
       "      <td>1.9100</td>\n",
       "      <td>1.8004</td>\n",
       "      <td>9.1332</td>\n",
       "      <td>1398.59</td>\n",
       "      <td>2.2229</td>\n",
       "      <td>1.9554</td>\n",
       "      <td>6.9358</td>\n",
       "    </tr>\n",
       "    <tr>\n",
       "      <th>1</th>\n",
       "      <td>1999-01-05</td>\n",
       "      <td>1</td>\n",
       "      <td>1.1790</td>\n",
       "      <td>130.96</td>\n",
       "      <td>34.917</td>\n",
       "      <td>7.4495</td>\n",
       "      <td>0.71220</td>\n",
       "      <td>250.80</td>\n",
       "      <td>4.0245</td>\n",
       "      <td>9.4025</td>\n",
       "      <td>1.6123</td>\n",
       "      <td>8.7745</td>\n",
       "      <td>1.8944</td>\n",
       "      <td>1.7965</td>\n",
       "      <td>9.1341</td>\n",
       "      <td>1373.01</td>\n",
       "      <td>2.2011</td>\n",
       "      <td>1.9655</td>\n",
       "      <td>6.7975</td>\n",
       "    </tr>\n",
       "    <tr>\n",
       "      <th>2</th>\n",
       "      <td>1999-01-06</td>\n",
       "      <td>1</td>\n",
       "      <td>1.1743</td>\n",
       "      <td>131.42</td>\n",
       "      <td>34.850</td>\n",
       "      <td>7.4452</td>\n",
       "      <td>0.70760</td>\n",
       "      <td>250.67</td>\n",
       "      <td>4.0065</td>\n",
       "      <td>9.3050</td>\n",
       "      <td>1.6116</td>\n",
       "      <td>8.7335</td>\n",
       "      <td>1.8820</td>\n",
       "      <td>1.7711</td>\n",
       "      <td>9.1010</td>\n",
       "      <td>1359.54</td>\n",
       "      <td>2.1890</td>\n",
       "      <td>1.9699</td>\n",
       "      <td>6.7307</td>\n",
       "    </tr>\n",
       "    <tr>\n",
       "      <th>3</th>\n",
       "      <td>1999-01-07</td>\n",
       "      <td>1</td>\n",
       "      <td>1.1632</td>\n",
       "      <td>129.43</td>\n",
       "      <td>34.886</td>\n",
       "      <td>7.4431</td>\n",
       "      <td>0.70585</td>\n",
       "      <td>250.09</td>\n",
       "      <td>4.0165</td>\n",
       "      <td>9.1800</td>\n",
       "      <td>1.6165</td>\n",
       "      <td>8.6295</td>\n",
       "      <td>1.8474</td>\n",
       "      <td>1.7602</td>\n",
       "      <td>9.0131</td>\n",
       "      <td>1337.16</td>\n",
       "      <td>2.1531</td>\n",
       "      <td>1.9436</td>\n",
       "      <td>6.8283</td>\n",
       "    </tr>\n",
       "    <tr>\n",
       "      <th>4</th>\n",
       "      <td>1999-01-08</td>\n",
       "      <td>1</td>\n",
       "      <td>1.1659</td>\n",
       "      <td>130.09</td>\n",
       "      <td>34.938</td>\n",
       "      <td>7.4433</td>\n",
       "      <td>0.70940</td>\n",
       "      <td>250.15</td>\n",
       "      <td>4.0363</td>\n",
       "      <td>9.1650</td>\n",
       "      <td>1.6138</td>\n",
       "      <td>8.5900</td>\n",
       "      <td>1.8406</td>\n",
       "      <td>1.7643</td>\n",
       "      <td>9.0302</td>\n",
       "      <td>1366.73</td>\n",
       "      <td>2.1557</td>\n",
       "      <td>1.9537</td>\n",
       "      <td>6.7855</td>\n",
       "    </tr>\n",
       "  </tbody>\n",
       "</table>\n",
       "</div>"
      ],
      "text/plain": [
       "         Date  EUR     USD     JPY     CZK     DKK      GBP     HUF     PLN  \\\n",
       "0  1999-01-04    1  1.1789  133.73  35.107  7.4501  0.71110  251.48  4.0712   \n",
       "1  1999-01-05    1  1.1790  130.96  34.917  7.4495  0.71220  250.80  4.0245   \n",
       "2  1999-01-06    1  1.1743  131.42  34.850  7.4452  0.70760  250.67  4.0065   \n",
       "3  1999-01-07    1  1.1632  129.43  34.886  7.4431  0.70585  250.09  4.0165   \n",
       "4  1999-01-08    1  1.1659  130.09  34.938  7.4433  0.70940  250.15  4.0363   \n",
       "\n",
       "      SEK     CHF     NOK     AUD     CAD     HKD      KRW     NZD     SGD  \\\n",
       "0  9.4696  1.6168  8.8550  1.9100  1.8004  9.1332  1398.59  2.2229  1.9554   \n",
       "1  9.4025  1.6123  8.7745  1.8944  1.7965  9.1341  1373.01  2.2011  1.9655   \n",
       "2  9.3050  1.6116  8.7335  1.8820  1.7711  9.1010  1359.54  2.1890  1.9699   \n",
       "3  9.1800  1.6165  8.6295  1.8474  1.7602  9.0131  1337.16  2.1531  1.9436   \n",
       "4  9.1650  1.6138  8.5900  1.8406  1.7643  9.0302  1366.73  2.1557  1.9537   \n",
       "\n",
       "      ZAR  \n",
       "0  6.9358  \n",
       "1  6.7975  \n",
       "2  6.7307  \n",
       "3  6.8283  \n",
       "4  6.7855  "
      ]
     },
     "execution_count": 44,
     "metadata": {},
     "output_type": "execute_result"
    }
   ],
   "source": [
    "df1.head()"
   ]
  },
  {
   "cell_type": "markdown",
   "metadata": {},
   "source": [
    "Keep dates in a convenient format."
   ]
  },
  {
   "cell_type": "code",
   "execution_count": 45,
   "metadata": {},
   "outputs": [],
   "source": [
    "Dates = pd.to_datetime(df1['Date'], format='%Y-%m-%d')"
   ]
  },
  {
   "cell_type": "markdown",
   "metadata": {},
   "source": [
    "EUR/USD exchange rate plotted. Note that the price process is not smooth (no derivative)."
   ]
  },
  {
   "cell_type": "code",
   "execution_count": 49,
   "metadata": {},
   "outputs": [
    {
     "data": {
      "image/png": "[encoded data removed]",
      "text/plain": [
       "<Figure size 432x288 with 1 Axes>"
      ]
     },
     "metadata": {
      "needs_background": "light"
     },
     "output_type": "display_data"
    }
   ],
   "source": [
    "plt.figure(3)\n",
    "plt.plot(Dates,df1['USD'])\n",
    "plt.xlabel('Year')\n",
    "plt.ylabel('EUR/USD')\n",
    "plt.grid()\n",
    "plt.show()"
   ]
  },
  {
   "cell_type": "code",
   "execution_count": 50,
   "metadata": {},
   "outputs": [],
   "source": [
    "df1 = df1.set_index('Date')"
   ]
  },
  {
   "cell_type": "code",
   "execution_count": 51,
   "metadata": {},
   "outputs": [],
   "source": [
    "fxreturns = df1.apply(np.log).diff()"
   ]
  },
  {
   "cell_type": "code",
   "execution_count": 52,
   "metadata": {},
   "outputs": [
    {
     "data": {
      "image/png": "[encoded data removed]",
      "text/plain": [
       "<Figure size 432x288 with 1 Axes>"
      ]
     },
     "metadata": {
      "needs_background": "light"
     },
     "output_type": "display_data"
    }
   ],
   "source": [
    "plt.figure(4)\n",
    "plt.plot(Dates,fxreturns['USD'])\n",
    "plt.xlabel('Year')\n",
    "plt.ylabel('Daily Return')\n",
    "plt.grid()\n",
    "plt.show()"
   ]
  },
  {
   "cell_type": "code",
   "execution_count": 53,
   "metadata": {},
   "outputs": [
    {
     "data": {
      "text/plain": [
       "-1.0311183483908937e-05"
      ]
     },
     "execution_count": 53,
     "metadata": {},
     "output_type": "execute_result"
    }
   ],
   "source": [
    "np.mean(fxreturns['USD'])"
   ]
  },
  {
   "cell_type": "code",
   "execution_count": 54,
   "metadata": {},
   "outputs": [
    {
     "data": {
      "text/plain": [
       "0.006144945614545791"
      ]
     },
     "execution_count": 54,
     "metadata": {},
     "output_type": "execute_result"
    }
   ],
   "source": [
    "np.std(fxreturns['USD'])"
   ]
  },
  {
   "cell_type": "code",
   "execution_count": 100,
   "metadata": {},
   "outputs": [
    {
     "data": {
      "text/plain": [
       "0.09735080896101331"
      ]
     },
     "execution_count": 100,
     "metadata": {},
     "output_type": "execute_result"
    }
   ],
   "source": [
    "np.sqrt(250)*np.std(fxreturns['USD'])"
   ]
  },
  {
   "cell_type": "code",
   "execution_count": 101,
   "metadata": {},
   "outputs": [
    {
     "data": {
      "text/plain": [
       "-0.010127373267890491"
      ]
     },
     "execution_count": 101,
     "metadata": {},
     "output_type": "execute_result"
    }
   ],
   "source": [
    "sp.norm.ppf(0.05)*np.std(fxreturns['USD'])"
   ]
  },
  {
   "cell_type": "code",
   "execution_count": 14,
   "metadata": {},
   "outputs": [
    {
     "data": {
      "text/plain": [
       "-0.009902548664567874"
      ]
     },
     "execution_count": 14,
     "metadata": {},
     "output_type": "execute_result"
    }
   ],
   "source": [
    "np.quantile(fxreturns['USD'][1:],0.05)"
   ]
  },
  {
   "cell_type": "code",
   "execution_count": 55,
   "metadata": {},
   "outputs": [],
   "source": [
    "cvar_data = fxreturns['USD'][fxreturns['USD']<=-0.009902548664567874]"
   ]
  },
  {
   "cell_type": "code",
   "execution_count": 18,
   "metadata": {},
   "outputs": [
    {
     "data": {
      "text/plain": [
       "Date\n",
       "1999-01-28   -0.010375\n",
       "1999-02-22   -0.015437\n",
       "1999-03-29   -0.011438\n",
       "1999-04-16   -0.011000\n",
       "1999-08-16   -0.010745\n",
       "1999-09-13   -0.017065\n",
       "2000-01-07   -0.010062\n",
       "2000-01-17   -0.012895\n",
       "2000-01-28   -0.012914\n",
       "2000-02-24   -0.017029\n",
       "2000-02-28   -0.017891\n",
       "2000-03-14   -0.009930\n",
       "2000-03-22   -0.010153\n",
       "2000-04-26   -0.011787\n",
       "2000-05-03   -0.022520\n",
       "2000-05-17   -0.015901\n",
       "2000-05-25   -0.012943\n",
       "2000-06-09   -0.018583\n",
       "2000-06-15   -0.011691\n",
       "2000-06-20   -0.010637\n",
       "2000-07-13   -0.015917\n",
       "2000-07-19   -0.014756\n",
       "2000-07-28   -0.012108\n",
       "2000-08-02   -0.013257\n",
       "2000-08-03   -0.012548\n",
       "2000-08-14   -0.013339\n",
       "2000-08-21   -0.011460\n",
       "2000-09-05   -0.012748\n",
       "2000-09-07   -0.016234\n",
       "2000-09-11   -0.014530\n",
       "                ...   \n",
       "2015-03-10   -0.011297\n",
       "2015-03-11   -0.015012\n",
       "2015-03-27   -0.010720\n",
       "2015-04-10   -0.019116\n",
       "2015-05-19   -0.018522\n",
       "2015-05-25   -0.016801\n",
       "2015-06-23   -0.012506\n",
       "2015-07-13   -0.012234\n",
       "2015-07-16   -0.012982\n",
       "2015-08-27   -0.010403\n",
       "2015-09-21   -0.014911\n",
       "2015-10-23   -0.020450\n",
       "2015-10-29   -0.014082\n",
       "2016-01-05   -0.014046\n",
       "2016-02-29   -0.010779\n",
       "2016-03-10   -0.010628\n",
       "2016-06-24   -0.028771\n",
       "2016-08-29   -0.010686\n",
       "2016-11-10   -0.011589\n",
       "2016-11-14   -0.011715\n",
       "2016-12-09   -0.019043\n",
       "2016-12-15   -0.021365\n",
       "2017-03-29   -0.010275\n",
       "2017-08-30   -0.011017\n",
       "2017-10-27   -0.012672\n",
       "2018-03-09   -0.010521\n",
       "2018-06-15   -0.011489\n",
       "2018-08-10   -0.011888\n",
       "2018-09-28   -0.011253\n",
       "2019-08-01   -0.010276\n",
       "Name: USD, Length: 267, dtype: float64"
      ]
     },
     "execution_count": 18,
     "metadata": {},
     "output_type": "execute_result"
    }
   ],
   "source": [
    "cvar_data"
   ]
  },
  {
   "cell_type": "code",
   "execution_count": 56,
   "metadata": {},
   "outputs": [
    {
     "data": {
      "text/plain": [
       "-0.013636564625227741"
      ]
     },
     "execution_count": 56,
     "metadata": {},
     "output_type": "execute_result"
    }
   ],
   "source": [
    "np.mean(cvar_data)"
   ]
  },
  {
   "cell_type": "code",
   "execution_count": 58,
   "metadata": {},
   "outputs": [
    {
     "name": "stdout",
     "output_type": "stream",
     "text": [
      "(-1.0311183483908899e-05, 0.006144945614545785)\n"
     ]
    }
   ],
   "source": [
    "fit_to_n = sp.norm.fit(fxreturns['USD'][1:])\n",
    "print(fit_to_n)"
   ]
  },
  {
   "cell_type": "code",
   "execution_count": 59,
   "metadata": {},
   "outputs": [
    {
     "name": "stdout",
     "output_type": "stream",
     "text": [
      "(5.322491831891064, 1.403265349448498e-06, 0.004881242225825406)\n"
     ]
    }
   ],
   "source": [
    "fit_to_t = sp.t.fit(fxreturns['USD'][1:])\n",
    "print(fit_to_t)"
   ]
  },
  {
   "cell_type": "code",
   "execution_count": 60,
   "metadata": {},
   "outputs": [
    {
     "data": {
      "image/png": "[encoded data removed]",
      "text/plain": [
       "<Figure size 432x288 with 1 Axes>"
      ]
     },
     "metadata": {
      "needs_background": "light"
     },
     "output_type": "display_data"
    }
   ],
   "source": [
    "x = np.linspace(-0.05,0.05,4000)\n",
    "\n",
    "plt.figure(5)\n",
    "plt.hist(fxreturns['USD'][1:],density=True, bins = 150, alpha=0.8)\n",
    "plt.plot(x,sp.norm.pdf(x,np.mean(fxreturns['USD']),np.std(fxreturns['USD'])), color='g', label='Normal')\n",
    "plt.plot(x,sp.t.pdf(x, fit_to_t[0], fit_to_t[1], fit_to_t[2]), color = 'r', label='Student t')\n",
    "plt.xlabel('Daily Return')\n",
    "plt.ylabel('Density')\n",
    "plt.legend()\n",
    "plt.grid()\n",
    "plt.show()"
   ]
  },
  {
   "cell_type": "code",
   "execution_count": 61,
   "metadata": {},
   "outputs": [
    {
     "name": "stdout",
     "output_type": "stream",
     "text": [
      "                            OLS Regression Results                            \n",
      "==============================================================================\n",
      "Dep. Variable:                    USD   R-squared:                       0.353\n",
      "Model:                            OLS   Adj. R-squared:                  0.353\n",
      "Method:                 Least Squares   F-statistic:                     2907.\n",
      "Date:                Tue, 05 Nov 2019   Prob (F-statistic):               0.00\n",
      "Time:                        13:22:35   Log-Likelihood:                 20757.\n",
      "No. Observations:                5335   AIC:                        -4.151e+04\n",
      "Df Residuals:                    5333   BIC:                        -4.150e+04\n",
      "Df Model:                           1                                         \n",
      "Covariance Type:            nonrobust                                         \n",
      "==============================================================================\n",
      "                 coef    std err          t      P>|t|      [0.025      0.975]\n",
      "------------------------------------------------------------------------------\n",
      "const      -1.125e-06   6.77e-05     -0.017      0.987      -0.000       0.000\n",
      "JPY            0.4871      0.009     53.913      0.000       0.469       0.505\n",
      "==============================================================================\n",
      "Omnibus:                      332.268   Durbin-Watson:                   2.017\n",
      "Prob(Omnibus):                  0.000   Jarque-Bera (JB):             1384.871\n",
      "Skew:                           0.140   Prob(JB):                    1.90e-301\n",
      "Kurtosis:                       5.480   Cond. No.                         133.\n",
      "==============================================================================\n",
      "\n",
      "Warnings:\n",
      "[1] Standard Errors assume that the covariance matrix of the errors is correctly specified.\n"
     ]
    },
    {
     "name": "stderr",
     "output_type": "stream",
     "text": [
      "C:\\Users\\Jan Vecer\\Anaconda3\\lib\\site-packages\\numpy\\core\\fromnumeric.py:2389: FutureWarning: Method .ptp is deprecated and will be removed in a future version. Use numpy.ptp instead.\n",
      "  return ptp(axis=axis, out=out, **kwargs)\n"
     ]
    },
    {
     "data": {
      "image/png": "[encoded data removed]",
      "text/plain": [
       "<Figure size 432x288 with 1 Axes>"
      ]
     },
     "metadata": {
      "needs_background": "light"
     },
     "output_type": "display_data"
    }
   ],
   "source": [
    "plt.figure(6)\n",
    "plt.plot(fxreturns['JPY'],fxreturns['USD'],'.', ms=2)\n",
    "plt.xlim(-0.07,0.07)\n",
    "\n",
    "model1 = sm.OLS(fxreturns['USD'],sm.add_constant(fxreturns['JPY']),missing='drop')\n",
    "print(model1.fit().summary())\n",
    "\n",
    "x=np.linspace(-0.07,0.07,1000)\n",
    "coefs = model1.fit().params\n",
    "plt.plot(x,coefs[0]+coefs[1]*x,'r')\n",
    "\n",
    "xx, yy = np.mgrid[-0.07:0.072:.002, -0.05:0.052:.002]\n",
    "pos = np.dstack((xx, yy))\n",
    "rv = sp.multivariate_normal([np.mean(fxreturns['USD'][1:]),np.mean(fxreturns['JPY'][1:])], np.corrcoef(fxreturns['USD'][1:],fxreturns['JPY'][1:]))\n",
    "plt.contourf(xx, yy, rv.pdf(pos))\n",
    "\n",
    "\n",
    "plt.xlabel('EURJPY Returns')\n",
    "plt.ylabel('EURUSD Returns')\n",
    "plt.grid()\n",
    "plt.show()"
   ]
  },
  {
   "cell_type": "code",
   "execution_count": 121,
   "metadata": {},
   "outputs": [
    {
     "data": {
      "text/plain": [
       "-1.4164294439868073e-05"
      ]
     },
     "execution_count": 121,
     "metadata": {},
     "output_type": "execute_result"
    }
   ],
   "source": [
    "np.mean(fxreturns['USD'][1:])"
   ]
  },
  {
   "cell_type": "code",
   "execution_count": 122,
   "metadata": {},
   "outputs": [
    {
     "data": {
      "text/plain": [
       "-2.3236040331968203e-05"
      ]
     },
     "execution_count": 122,
     "metadata": {},
     "output_type": "execute_result"
    }
   ],
   "source": [
    "np.mean(fxreturns['JPY'][1:])"
   ]
  },
  {
   "cell_type": "code",
   "execution_count": 123,
   "metadata": {},
   "outputs": [
    {
     "data": {
      "text/plain": [
       "array([[1.        , 0.59398248],\n",
       "       [0.59398248, 1.        ]])"
      ]
     },
     "execution_count": 123,
     "metadata": {},
     "output_type": "execute_result"
    }
   ],
   "source": [
    "np.corrcoef(fxreturns['USD'][1:],fxreturns['JPY'][1:])"
   ]
  },
  {
   "cell_type": "code",
   "execution_count": 62,
   "metadata": {},
   "outputs": [],
   "source": [
    "LR_EURUSD_T = fxreturns['USD'][2:]\n",
    "LR_EURUSD_Y = fxreturns['USD'][1:len(fxreturns['USD'])-1]"
   ]
  },
  {
   "cell_type": "code",
   "execution_count": 125,
   "metadata": {},
   "outputs": [
    {
     "data": {
      "text/plain": [
       "Date\n",
       "1999-01-06   -0.003994\n",
       "1999-01-07   -0.009497\n",
       "1999-01-08    0.002318\n",
       "1999-01-11   -0.007749\n",
       "1999-01-12   -0.004244\n",
       "Name: USD, dtype: float64"
      ]
     },
     "execution_count": 125,
     "metadata": {},
     "output_type": "execute_result"
    }
   ],
   "source": [
    "LR_EURUSD_T.head()"
   ]
  },
  {
   "cell_type": "code",
   "execution_count": 126,
   "metadata": {},
   "outputs": [
    {
     "data": {
      "text/plain": [
       "Date\n",
       "1999-01-05    0.000085\n",
       "1999-01-06   -0.003994\n",
       "1999-01-07   -0.009497\n",
       "1999-01-08    0.002318\n",
       "1999-01-11   -0.007749\n",
       "Name: USD, dtype: float64"
      ]
     },
     "execution_count": 126,
     "metadata": {},
     "output_type": "execute_result"
    }
   ],
   "source": [
    "LR_EURUSD_Y.head()"
   ]
  },
  {
   "cell_type": "code",
   "execution_count": 63,
   "metadata": {},
   "outputs": [
    {
     "name": "stdout",
     "output_type": "stream",
     "text": [
      "                            OLS Regression Results                            \n",
      "==============================================================================\n",
      "Dep. Variable:                      y   R-squared:                       0.000\n",
      "Model:                            OLS   Adj. R-squared:                 -0.000\n",
      "Method:                 Least Squares   F-statistic:                    0.1260\n",
      "Date:                Tue, 05 Nov 2019   Prob (F-statistic):              0.723\n",
      "Time:                        13:30:28   Log-Likelihood:                 19592.\n",
      "No. Observations:                5334   AIC:                        -3.918e+04\n",
      "Df Residuals:                    5332   BIC:                        -3.917e+04\n",
      "Df Model:                           1                                         \n",
      "Covariance Type:            nonrobust                                         \n",
      "==============================================================================\n",
      "                 coef    std err          t      P>|t|      [0.025      0.975]\n",
      "------------------------------------------------------------------------------\n",
      "const      -1.038e-05   8.42e-05     -0.123      0.902      -0.000       0.000\n",
      "x1            -0.0049      0.014     -0.355      0.723      -0.032       0.022\n",
      "==============================================================================\n",
      "Omnibus:                      375.128   Durbin-Watson:                   2.000\n",
      "Prob(Omnibus):                  0.000   Jarque-Bera (JB):             1939.786\n",
      "Skew:                           0.011   Prob(JB):                         0.00\n",
      "Kurtosis:                       5.954   Cond. No.                         163.\n",
      "==============================================================================\n",
      "\n",
      "Warnings:\n",
      "[1] Standard Errors assume that the covariance matrix of the errors is correctly specified.\n"
     ]
    },
    {
     "data": {
      "image/png": "[encoded data removed]",
      "text/plain": [
       "<Figure size 432x288 with 1 Axes>"
      ]
     },
     "metadata": {
      "needs_background": "light"
     },
     "output_type": "display_data"
    }
   ],
   "source": [
    "plt.figure(7)\n",
    "plt.plot(LR_EURUSD_Y,LR_EURUSD_T,'.', ms=2)\n",
    "\n",
    "model = sm.OLS(LR_EURUSD_T.values,sm.add_constant(LR_EURUSD_Y.values))\n",
    "print(model.fit().summary())\n",
    "\n",
    "coefs = model.fit().params\n",
    "\n",
    "xx=np.linspace(-0.05,0.05,4000)\n",
    "plt.plot(xx,coefs[0]+coefs[1]*xx,'r')\n",
    "\n",
    "plt.xlabel('Yesterdays Returns')\n",
    "plt.ylabel('Todays Returns')\n",
    "\n",
    "#plt.xlim([-0.005,0.005])\n",
    "\n",
    "plt.grid()\n",
    "plt.show()"
   ]
  },
  {
   "cell_type": "markdown",
   "metadata": {},
   "source": [
    "# Getting SP500 Financial Data: Yahoo"
   ]
  },
  {
   "cell_type": "markdown",
   "metadata": {},
   "source": [
    "Downloading financial data can be tricky as the data sources often change format. This implementation works as in September 2019."
   ]
  },
  {
   "cell_type": "markdown",
   "metadata": {},
   "source": [
    "Start with extracting the current components of the SP500 index. The current components are listed on Wikipedia page. We are primarily interested in tickers, so let us get them in the corresponding list called 'tickers'."
   ]
  },
  {
   "cell_type": "code",
   "execution_count": 3,
   "metadata": {},
   "outputs": [],
   "source": [
    "table = pd.read_html('https://en.wikipedia.org/wiki/List_of_S%26P_500_companies')[0]\n",
    "tickers = table['Symbol'].tolist()"
   ]
  },
  {
   "cell_type": "code",
   "execution_count": 4,
   "metadata": {},
   "outputs": [
    {
     "data": {
      "text/html": [
       "<div>\n",
       "<style scoped>\n",
       "    .dataframe tbody tr th:only-of-type {\n",
       "        vertical-align: middle;\n",
       "    }\n",
       "\n",
       "    .dataframe tbody tr th {\n",
       "        vertical-align: top;\n",
       "    }\n",
       "\n",
       "    .dataframe thead th {\n",
       "        text-align: right;\n",
       "    }\n",
       "</style>\n",
       "<table border=\"1\" class=\"dataframe\">\n",
       "  <thead>\n",
       "    <tr style=\"text-align: right;\">\n",
       "      <th></th>\n",
       "      <th>Symbol</th>\n",
       "      <th>Security</th>\n",
       "      <th>SEC filings</th>\n",
       "      <th>GICS Sector</th>\n",
       "      <th>GICS Sub Industry</th>\n",
       "      <th>Headquarters Location</th>\n",
       "      <th>Date first added</th>\n",
       "      <th>CIK</th>\n",
       "      <th>Founded</th>\n",
       "    </tr>\n",
       "  </thead>\n",
       "  <tbody>\n",
       "    <tr>\n",
       "      <th>0</th>\n",
       "      <td>MMM</td>\n",
       "      <td>3M Company</td>\n",
       "      <td>reports</td>\n",
       "      <td>Industrials</td>\n",
       "      <td>Industrial Conglomerates</td>\n",
       "      <td>St. Paul, Minnesota</td>\n",
       "      <td>1976-08-09</td>\n",
       "      <td>66740</td>\n",
       "      <td>1902</td>\n",
       "    </tr>\n",
       "    <tr>\n",
       "      <th>1</th>\n",
       "      <td>ABT</td>\n",
       "      <td>Abbott Laboratories</td>\n",
       "      <td>reports</td>\n",
       "      <td>Health Care</td>\n",
       "      <td>Health Care Equipment</td>\n",
       "      <td>North Chicago, Illinois</td>\n",
       "      <td>1964-03-31</td>\n",
       "      <td>1800</td>\n",
       "      <td>1888</td>\n",
       "    </tr>\n",
       "    <tr>\n",
       "      <th>2</th>\n",
       "      <td>ABBV</td>\n",
       "      <td>AbbVie Inc.</td>\n",
       "      <td>reports</td>\n",
       "      <td>Health Care</td>\n",
       "      <td>Pharmaceuticals</td>\n",
       "      <td>North Chicago, Illinois</td>\n",
       "      <td>2012-12-31</td>\n",
       "      <td>1551152</td>\n",
       "      <td>2013 (1888)</td>\n",
       "    </tr>\n",
       "    <tr>\n",
       "      <th>3</th>\n",
       "      <td>ABMD</td>\n",
       "      <td>ABIOMED Inc</td>\n",
       "      <td>reports</td>\n",
       "      <td>Health Care</td>\n",
       "      <td>Health Care Equipment</td>\n",
       "      <td>Danvers, Massachusetts</td>\n",
       "      <td>2018-05-31</td>\n",
       "      <td>815094</td>\n",
       "      <td>1981</td>\n",
       "    </tr>\n",
       "    <tr>\n",
       "      <th>4</th>\n",
       "      <td>ACN</td>\n",
       "      <td>Accenture plc</td>\n",
       "      <td>reports</td>\n",
       "      <td>Information Technology</td>\n",
       "      <td>IT Consulting &amp; Other Services</td>\n",
       "      <td>Dublin, Ireland</td>\n",
       "      <td>2011-07-06</td>\n",
       "      <td>1467373</td>\n",
       "      <td>1989</td>\n",
       "    </tr>\n",
       "  </tbody>\n",
       "</table>\n",
       "</div>"
      ],
      "text/plain": [
       "  Symbol             Security SEC filings             GICS Sector  \\\n",
       "0    MMM           3M Company     reports             Industrials   \n",
       "1    ABT  Abbott Laboratories     reports             Health Care   \n",
       "2   ABBV          AbbVie Inc.     reports             Health Care   \n",
       "3   ABMD          ABIOMED Inc     reports             Health Care   \n",
       "4    ACN        Accenture plc     reports  Information Technology   \n",
       "\n",
       "                GICS Sub Industry    Headquarters Location Date first added  \\\n",
       "0        Industrial Conglomerates      St. Paul, Minnesota       1976-08-09   \n",
       "1           Health Care Equipment  North Chicago, Illinois       1964-03-31   \n",
       "2                 Pharmaceuticals  North Chicago, Illinois       2012-12-31   \n",
       "3           Health Care Equipment   Danvers, Massachusetts       2018-05-31   \n",
       "4  IT Consulting & Other Services          Dublin, Ireland       2011-07-06   \n",
       "\n",
       "       CIK      Founded  \n",
       "0    66740         1902  \n",
       "1     1800         1888  \n",
       "2  1551152  2013 (1888)  \n",
       "3   815094         1981  \n",
       "4  1467373         1989  "
      ]
     },
     "execution_count": 4,
     "metadata": {},
     "output_type": "execute_result"
    }
   ],
   "source": [
    "table.head()"
   ]
  },
  {
   "cell_type": "code",
   "execution_count": 66,
   "metadata": {},
   "outputs": [
    {
     "data": {
      "text/plain": [
       "['MMM', 'ABT', 'ABBV', 'ABMD', 'ACN', 'ATVI', 'ADBE', 'AMD', 'AAP', 'AES']"
      ]
     },
     "execution_count": 66,
     "metadata": {},
     "output_type": "execute_result"
    }
   ],
   "source": [
    "tickers[0:10]"
   ]
  },
  {
   "cell_type": "markdown",
   "metadata": {},
   "source": [
    "The tickers in Wikipedia page have a slight inconsistency with Yahoo finance tickers, namely Wikipedia uses a dot '.' for some tickers in contrast to a dash '-' notation used in Yahoo. This needs to be corrected."
   ]
  },
  {
   "cell_type": "code",
   "execution_count": 5,
   "metadata": {},
   "outputs": [],
   "source": [
    "for i in range(len(tickers)):\n",
    "    tickers[i] = tickers[i].replace(\".\",\"-\")"
   ]
  },
  {
   "cell_type": "markdown",
   "metadata": {},
   "source": [
    "Add the SP500 index itself to the ticker list: '^GSPC'."
   ]
  },
  {
   "cell_type": "code",
   "execution_count": 6,
   "metadata": {},
   "outputs": [],
   "source": [
    "tickers.append('^GSPC')"
   ]
  },
  {
   "cell_type": "markdown",
   "metadata": {},
   "source": [
    "The import part itself, starting at some fixed time, ending at the current time.\n",
    "\n",
    "Downloading data takes some time, be patient."
   ]
  },
  {
   "cell_type": "code",
   "execution_count": 7,
   "metadata": {},
   "outputs": [],
   "source": [
    "import time\n",
    "\n",
    "start_date = '2019-01-01'\n",
    "end_date = time.strftime(\"%Y-%m-%d\")\n",
    "\n",
    "sp500 = data.DataReader(tickers, 'yahoo', start_date, end_date)['Adj Close']"
   ]
  },
  {
   "cell_type": "code",
   "execution_count": 11,
   "metadata": {},
   "outputs": [
    {
     "data": {
      "text/html": [
       "<div>\n",
       "<style scoped>\n",
       "    .dataframe tbody tr th:only-of-type {\n",
       "        vertical-align: middle;\n",
       "    }\n",
       "\n",
       "    .dataframe tbody tr th {\n",
       "        vertical-align: top;\n",
       "    }\n",
       "\n",
       "    .dataframe thead th {\n",
       "        text-align: right;\n",
       "    }\n",
       "</style>\n",
       "<table border=\"1\" class=\"dataframe\">\n",
       "  <thead>\n",
       "    <tr style=\"text-align: right;\">\n",
       "      <th>Symbols</th>\n",
       "      <th>MMM</th>\n",
       "      <th>ABT</th>\n",
       "      <th>ABBV</th>\n",
       "      <th>ABMD</th>\n",
       "      <th>ACN</th>\n",
       "      <th>ATVI</th>\n",
       "      <th>ADBE</th>\n",
       "      <th>AMD</th>\n",
       "      <th>AAP</th>\n",
       "      <th>AES</th>\n",
       "      <th>...</th>\n",
       "      <th>XEL</th>\n",
       "      <th>XRX</th>\n",
       "      <th>XLNX</th>\n",
       "      <th>XYL</th>\n",
       "      <th>YUM</th>\n",
       "      <th>ZBRA</th>\n",
       "      <th>ZBH</th>\n",
       "      <th>ZION</th>\n",
       "      <th>ZTS</th>\n",
       "      <th>^GSPC</th>\n",
       "    </tr>\n",
       "    <tr>\n",
       "      <th>Date</th>\n",
       "      <th></th>\n",
       "      <th></th>\n",
       "      <th></th>\n",
       "      <th></th>\n",
       "      <th></th>\n",
       "      <th></th>\n",
       "      <th></th>\n",
       "      <th></th>\n",
       "      <th></th>\n",
       "      <th></th>\n",
       "      <th></th>\n",
       "      <th></th>\n",
       "      <th></th>\n",
       "      <th></th>\n",
       "      <th></th>\n",
       "      <th></th>\n",
       "      <th></th>\n",
       "      <th></th>\n",
       "      <th></th>\n",
       "      <th></th>\n",
       "      <th></th>\n",
       "    </tr>\n",
       "  </thead>\n",
       "  <tbody>\n",
       "    <tr>\n",
       "      <th>2019-01-02</th>\n",
       "      <td>183.068054</td>\n",
       "      <td>67.791504</td>\n",
       "      <td>82.106827</td>\n",
       "      <td>309.959991</td>\n",
       "      <td>137.682632</td>\n",
       "      <td>46.350380</td>\n",
       "      <td>224.570007</td>\n",
       "      <td>18.830000</td>\n",
       "      <td>157.235001</td>\n",
       "      <td>13.495584</td>\n",
       "      <td>...</td>\n",
       "      <td>46.639339</td>\n",
       "      <td>19.286905</td>\n",
       "      <td>85.283569</td>\n",
       "      <td>65.474289</td>\n",
       "      <td>89.536743</td>\n",
       "      <td>156.240005</td>\n",
       "      <td>101.280602</td>\n",
       "      <td>40.154263</td>\n",
       "      <td>83.688446</td>\n",
       "      <td>2510.030029</td>\n",
       "    </tr>\n",
       "    <tr>\n",
       "      <th>2019-01-03</th>\n",
       "      <td>176.174835</td>\n",
       "      <td>64.592140</td>\n",
       "      <td>79.401527</td>\n",
       "      <td>302.290009</td>\n",
       "      <td>132.981903</td>\n",
       "      <td>44.704514</td>\n",
       "      <td>215.699997</td>\n",
       "      <td>17.049999</td>\n",
       "      <td>162.143646</td>\n",
       "      <td>13.486069</td>\n",
       "      <td>...</td>\n",
       "      <td>46.455570</td>\n",
       "      <td>18.865334</td>\n",
       "      <td>82.072556</td>\n",
       "      <td>63.229786</td>\n",
       "      <td>87.284607</td>\n",
       "      <td>146.880005</td>\n",
       "      <td>99.448669</td>\n",
       "      <td>39.932148</td>\n",
       "      <td>80.795799</td>\n",
       "      <td>2447.889893</td>\n",
       "    </tr>\n",
       "    <tr>\n",
       "      <th>2019-01-04</th>\n",
       "      <td>183.422806</td>\n",
       "      <td>66.435669</td>\n",
       "      <td>81.959602</td>\n",
       "      <td>313.440002</td>\n",
       "      <td>138.152725</td>\n",
       "      <td>46.488358</td>\n",
       "      <td>226.190002</td>\n",
       "      <td>19.000000</td>\n",
       "      <td>158.121140</td>\n",
       "      <td>13.933384</td>\n",
       "      <td>...</td>\n",
       "      <td>46.910160</td>\n",
       "      <td>19.593504</td>\n",
       "      <td>85.872749</td>\n",
       "      <td>65.897575</td>\n",
       "      <td>89.556320</td>\n",
       "      <td>152.970001</td>\n",
       "      <td>102.845154</td>\n",
       "      <td>41.158604</td>\n",
       "      <td>83.965828</td>\n",
       "      <td>2531.939941</td>\n",
       "    </tr>\n",
       "    <tr>\n",
       "      <th>2019-01-07</th>\n",
       "      <td>183.000946</td>\n",
       "      <td>67.430595</td>\n",
       "      <td>83.155823</td>\n",
       "      <td>314.799988</td>\n",
       "      <td>138.632599</td>\n",
       "      <td>47.799141</td>\n",
       "      <td>229.259995</td>\n",
       "      <td>20.570000</td>\n",
       "      <td>160.441040</td>\n",
       "      <td>14.000006</td>\n",
       "      <td>...</td>\n",
       "      <td>46.707050</td>\n",
       "      <td>20.015074</td>\n",
       "      <td>88.141090</td>\n",
       "      <td>64.922997</td>\n",
       "      <td>89.458405</td>\n",
       "      <td>155.289993</td>\n",
       "      <td>102.884758</td>\n",
       "      <td>41.322777</td>\n",
       "      <td>84.471039</td>\n",
       "      <td>2549.689941</td>\n",
       "    </tr>\n",
       "    <tr>\n",
       "      <th>2019-01-08</th>\n",
       "      <td>183.767899</td>\n",
       "      <td>66.621002</td>\n",
       "      <td>83.542290</td>\n",
       "      <td>318.420013</td>\n",
       "      <td>142.138565</td>\n",
       "      <td>49.247898</td>\n",
       "      <td>232.679993</td>\n",
       "      <td>20.750000</td>\n",
       "      <td>159.325897</td>\n",
       "      <td>14.323593</td>\n",
       "      <td>...</td>\n",
       "      <td>47.248684</td>\n",
       "      <td>20.676178</td>\n",
       "      <td>86.461929</td>\n",
       "      <td>65.533348</td>\n",
       "      <td>89.282150</td>\n",
       "      <td>156.330002</td>\n",
       "      <td>100.577530</td>\n",
       "      <td>41.699402</td>\n",
       "      <td>85.729149</td>\n",
       "      <td>2574.409912</td>\n",
       "    </tr>\n",
       "  </tbody>\n",
       "</table>\n",
       "<p>5 rows × 506 columns</p>\n",
       "</div>"
      ],
      "text/plain": [
       "Symbols            MMM        ABT       ABBV        ABMD         ACN  \\\n",
       "Date                                                                   \n",
       "2019-01-02  183.068054  67.791504  82.106827  309.959991  137.682632   \n",
       "2019-01-03  176.174835  64.592140  79.401527  302.290009  132.981903   \n",
       "2019-01-04  183.422806  66.435669  81.959602  313.440002  138.152725   \n",
       "2019-01-07  183.000946  67.430595  83.155823  314.799988  138.632599   \n",
       "2019-01-08  183.767899  66.621002  83.542290  318.420013  142.138565   \n",
       "\n",
       "Symbols          ATVI        ADBE        AMD         AAP        AES  ...  \\\n",
       "Date                                                                 ...   \n",
       "2019-01-02  46.350380  224.570007  18.830000  157.235001  13.495584  ...   \n",
       "2019-01-03  44.704514  215.699997  17.049999  162.143646  13.486069  ...   \n",
       "2019-01-04  46.488358  226.190002  19.000000  158.121140  13.933384  ...   \n",
       "2019-01-07  47.799141  229.259995  20.570000  160.441040  14.000006  ...   \n",
       "2019-01-08  49.247898  232.679993  20.750000  159.325897  14.323593  ...   \n",
       "\n",
       "Symbols           XEL        XRX       XLNX        XYL        YUM        ZBRA  \\\n",
       "Date                                                                            \n",
       "2019-01-02  46.639339  19.286905  85.283569  65.474289  89.536743  156.240005   \n",
       "2019-01-03  46.455570  18.865334  82.072556  63.229786  87.284607  146.880005   \n",
       "2019-01-04  46.910160  19.593504  85.872749  65.897575  89.556320  152.970001   \n",
       "2019-01-07  46.707050  20.015074  88.141090  64.922997  89.458405  155.289993   \n",
       "2019-01-08  47.248684  20.676178  86.461929  65.533348  89.282150  156.330002   \n",
       "\n",
       "Symbols            ZBH       ZION        ZTS        ^GSPC  \n",
       "Date                                                       \n",
       "2019-01-02  101.280602  40.154263  83.688446  2510.030029  \n",
       "2019-01-03   99.448669  39.932148  80.795799  2447.889893  \n",
       "2019-01-04  102.845154  41.158604  83.965828  2531.939941  \n",
       "2019-01-07  102.884758  41.322777  84.471039  2549.689941  \n",
       "2019-01-08  100.577530  41.699402  85.729149  2574.409912  \n",
       "\n",
       "[5 rows x 506 columns]"
      ]
     },
     "execution_count": 11,
     "metadata": {},
     "output_type": "execute_result"
    }
   ],
   "source": [
    "sp500[tickers].head()"
   ]
  },
  {
   "cell_type": "markdown",
   "metadata": {},
   "source": [
    "It is worth to save them for the future references, so it can be uploaded from the .csv file later."
   ]
  },
  {
   "cell_type": "code",
   "execution_count": 19,
   "metadata": {},
   "outputs": [],
   "source": [
    "sp500[tickers].to_csv('sp500.csv')"
   ]
  },
  {
   "cell_type": "markdown",
   "metadata": {},
   "source": [
    "The structure of the dataframe is the following."
   ]
  },
  {
   "cell_type": "code",
   "execution_count": 9,
   "metadata": {},
   "outputs": [
    {
     "data": {
      "text/html": [
       "<div>\n",
       "<style scoped>\n",
       "    .dataframe tbody tr th:only-of-type {\n",
       "        vertical-align: middle;\n",
       "    }\n",
       "\n",
       "    .dataframe tbody tr th {\n",
       "        vertical-align: top;\n",
       "    }\n",
       "\n",
       "    .dataframe thead th {\n",
       "        text-align: right;\n",
       "    }\n",
       "</style>\n",
       "<table border=\"1\" class=\"dataframe\">\n",
       "  <thead>\n",
       "    <tr style=\"text-align: right;\">\n",
       "      <th>Symbols</th>\n",
       "      <th>A</th>\n",
       "      <th>AAL</th>\n",
       "      <th>AAP</th>\n",
       "      <th>AAPL</th>\n",
       "      <th>ABBV</th>\n",
       "      <th>ABC</th>\n",
       "      <th>ABMD</th>\n",
       "      <th>ABT</th>\n",
       "      <th>ACN</th>\n",
       "      <th>ADBE</th>\n",
       "      <th>...</th>\n",
       "      <th>XOM</th>\n",
       "      <th>XRAY</th>\n",
       "      <th>XRX</th>\n",
       "      <th>XYL</th>\n",
       "      <th>YUM</th>\n",
       "      <th>ZBH</th>\n",
       "      <th>ZBRA</th>\n",
       "      <th>ZION</th>\n",
       "      <th>ZTS</th>\n",
       "      <th>^GSPC</th>\n",
       "    </tr>\n",
       "    <tr>\n",
       "      <th>Date</th>\n",
       "      <th></th>\n",
       "      <th></th>\n",
       "      <th></th>\n",
       "      <th></th>\n",
       "      <th></th>\n",
       "      <th></th>\n",
       "      <th></th>\n",
       "      <th></th>\n",
       "      <th></th>\n",
       "      <th></th>\n",
       "      <th></th>\n",
       "      <th></th>\n",
       "      <th></th>\n",
       "      <th></th>\n",
       "      <th></th>\n",
       "      <th></th>\n",
       "      <th></th>\n",
       "      <th></th>\n",
       "      <th></th>\n",
       "      <th></th>\n",
       "      <th></th>\n",
       "    </tr>\n",
       "  </thead>\n",
       "  <tbody>\n",
       "    <tr>\n",
       "      <th>2019-01-02</th>\n",
       "      <td>64.968681</td>\n",
       "      <td>31.963160</td>\n",
       "      <td>157.235001</td>\n",
       "      <td>155.214005</td>\n",
       "      <td>82.106827</td>\n",
       "      <td>72.719398</td>\n",
       "      <td>309.959991</td>\n",
       "      <td>67.791504</td>\n",
       "      <td>137.682632</td>\n",
       "      <td>224.570007</td>\n",
       "      <td>...</td>\n",
       "      <td>65.563515</td>\n",
       "      <td>37.520115</td>\n",
       "      <td>19.286905</td>\n",
       "      <td>65.474289</td>\n",
       "      <td>89.536743</td>\n",
       "      <td>101.280602</td>\n",
       "      <td>156.240005</td>\n",
       "      <td>40.154263</td>\n",
       "      <td>83.688446</td>\n",
       "      <td>2510.030029</td>\n",
       "    </tr>\n",
       "    <tr>\n",
       "      <th>2019-01-03</th>\n",
       "      <td>62.575249</td>\n",
       "      <td>29.581665</td>\n",
       "      <td>162.143646</td>\n",
       "      <td>139.753540</td>\n",
       "      <td>79.401527</td>\n",
       "      <td>71.664497</td>\n",
       "      <td>302.290009</td>\n",
       "      <td>64.592140</td>\n",
       "      <td>132.981903</td>\n",
       "      <td>215.699997</td>\n",
       "      <td>...</td>\n",
       "      <td>64.556870</td>\n",
       "      <td>37.539921</td>\n",
       "      <td>18.865334</td>\n",
       "      <td>63.229786</td>\n",
       "      <td>87.284607</td>\n",
       "      <td>99.448669</td>\n",
       "      <td>146.880005</td>\n",
       "      <td>39.932148</td>\n",
       "      <td>80.795799</td>\n",
       "      <td>2447.889893</td>\n",
       "    </tr>\n",
       "    <tr>\n",
       "      <th>2019-01-04</th>\n",
       "      <td>64.741203</td>\n",
       "      <td>31.530161</td>\n",
       "      <td>158.121140</td>\n",
       "      <td>145.719513</td>\n",
       "      <td>81.959602</td>\n",
       "      <td>72.494736</td>\n",
       "      <td>313.440002</td>\n",
       "      <td>66.435669</td>\n",
       "      <td>138.152725</td>\n",
       "      <td>226.190002</td>\n",
       "      <td>...</td>\n",
       "      <td>66.937065</td>\n",
       "      <td>38.629177</td>\n",
       "      <td>19.593504</td>\n",
       "      <td>65.897575</td>\n",
       "      <td>89.556320</td>\n",
       "      <td>102.845154</td>\n",
       "      <td>152.970001</td>\n",
       "      <td>41.158604</td>\n",
       "      <td>83.965828</td>\n",
       "      <td>2531.939941</td>\n",
       "    </tr>\n",
       "    <tr>\n",
       "      <th>2019-01-07</th>\n",
       "      <td>66.115929</td>\n",
       "      <td>32.425678</td>\n",
       "      <td>160.441040</td>\n",
       "      <td>145.395203</td>\n",
       "      <td>83.155823</td>\n",
       "      <td>73.012421</td>\n",
       "      <td>314.799988</td>\n",
       "      <td>67.430595</td>\n",
       "      <td>138.632599</td>\n",
       "      <td>229.259995</td>\n",
       "      <td>...</td>\n",
       "      <td>67.285156</td>\n",
       "      <td>39.322350</td>\n",
       "      <td>20.015074</td>\n",
       "      <td>64.922997</td>\n",
       "      <td>89.458405</td>\n",
       "      <td>102.884758</td>\n",
       "      <td>155.289993</td>\n",
       "      <td>41.322777</td>\n",
       "      <td>84.471039</td>\n",
       "      <td>2549.689941</td>\n",
       "    </tr>\n",
       "    <tr>\n",
       "      <th>2019-01-08</th>\n",
       "      <td>67.085175</td>\n",
       "      <td>31.904110</td>\n",
       "      <td>159.325897</td>\n",
       "      <td>148.166870</td>\n",
       "      <td>83.542290</td>\n",
       "      <td>73.793823</td>\n",
       "      <td>318.420013</td>\n",
       "      <td>66.621002</td>\n",
       "      <td>142.138565</td>\n",
       "      <td>232.679993</td>\n",
       "      <td>...</td>\n",
       "      <td>67.774361</td>\n",
       "      <td>39.054981</td>\n",
       "      <td>20.676178</td>\n",
       "      <td>65.533348</td>\n",
       "      <td>89.282150</td>\n",
       "      <td>100.577530</td>\n",
       "      <td>156.330002</td>\n",
       "      <td>41.699402</td>\n",
       "      <td>85.729149</td>\n",
       "      <td>2574.409912</td>\n",
       "    </tr>\n",
       "  </tbody>\n",
       "</table>\n",
       "<p>5 rows × 506 columns</p>\n",
       "</div>"
      ],
      "text/plain": [
       "Symbols             A        AAL         AAP        AAPL       ABBV  \\\n",
       "Date                                                                  \n",
       "2019-01-02  64.968681  31.963160  157.235001  155.214005  82.106827   \n",
       "2019-01-03  62.575249  29.581665  162.143646  139.753540  79.401527   \n",
       "2019-01-04  64.741203  31.530161  158.121140  145.719513  81.959602   \n",
       "2019-01-07  66.115929  32.425678  160.441040  145.395203  83.155823   \n",
       "2019-01-08  67.085175  31.904110  159.325897  148.166870  83.542290   \n",
       "\n",
       "Symbols           ABC        ABMD        ABT         ACN        ADBE  ...  \\\n",
       "Date                                                                  ...   \n",
       "2019-01-02  72.719398  309.959991  67.791504  137.682632  224.570007  ...   \n",
       "2019-01-03  71.664497  302.290009  64.592140  132.981903  215.699997  ...   \n",
       "2019-01-04  72.494736  313.440002  66.435669  138.152725  226.190002  ...   \n",
       "2019-01-07  73.012421  314.799988  67.430595  138.632599  229.259995  ...   \n",
       "2019-01-08  73.793823  318.420013  66.621002  142.138565  232.679993  ...   \n",
       "\n",
       "Symbols           XOM       XRAY        XRX        XYL        YUM         ZBH  \\\n",
       "Date                                                                            \n",
       "2019-01-02  65.563515  37.520115  19.286905  65.474289  89.536743  101.280602   \n",
       "2019-01-03  64.556870  37.539921  18.865334  63.229786  87.284607   99.448669   \n",
       "2019-01-04  66.937065  38.629177  19.593504  65.897575  89.556320  102.845154   \n",
       "2019-01-07  67.285156  39.322350  20.015074  64.922997  89.458405  102.884758   \n",
       "2019-01-08  67.774361  39.054981  20.676178  65.533348  89.282150  100.577530   \n",
       "\n",
       "Symbols           ZBRA       ZION        ZTS        ^GSPC  \n",
       "Date                                                       \n",
       "2019-01-02  156.240005  40.154263  83.688446  2510.030029  \n",
       "2019-01-03  146.880005  39.932148  80.795799  2447.889893  \n",
       "2019-01-04  152.970001  41.158604  83.965828  2531.939941  \n",
       "2019-01-07  155.289993  41.322777  84.471039  2549.689941  \n",
       "2019-01-08  156.330002  41.699402  85.729149  2574.409912  \n",
       "\n",
       "[5 rows x 506 columns]"
      ]
     },
     "execution_count": 9,
     "metadata": {},
     "output_type": "execute_result"
    }
   ],
   "source": [
    "sp500.head()"
   ]
  },
  {
   "cell_type": "markdown",
   "metadata": {},
   "source": [
    "As a computer exercise, the data can be deleted (make sure you saved them)!"
   ]
  },
  {
   "cell_type": "code",
   "execution_count": 10,
   "metadata": {},
   "outputs": [],
   "source": [
    "del sp500"
   ]
  },
  {
   "cell_type": "markdown",
   "metadata": {},
   "source": [
    "And reloaded from the previously saved .csv file. The date is the index, which is now the first column (=0) of the .csv file. "
   ]
  },
  {
   "cell_type": "code",
   "execution_count": 50,
   "metadata": {},
   "outputs": [],
   "source": [
    "sp500 = pd.read_csv('sp500.csv', index_col=0)"
   ]
  },
  {
   "cell_type": "markdown",
   "metadata": {},
   "source": [
    "We have it back."
   ]
  },
  {
   "cell_type": "code",
   "execution_count": 51,
   "metadata": {},
   "outputs": [
    {
     "data": {
      "text/html": [
       "<div>\n",
       "<style scoped>\n",
       "    .dataframe tbody tr th:only-of-type {\n",
       "        vertical-align: middle;\n",
       "    }\n",
       "\n",
       "    .dataframe tbody tr th {\n",
       "        vertical-align: top;\n",
       "    }\n",
       "\n",
       "    .dataframe thead th {\n",
       "        text-align: right;\n",
       "    }\n",
       "</style>\n",
       "<table border=\"1\" class=\"dataframe\">\n",
       "  <thead>\n",
       "    <tr style=\"text-align: right;\">\n",
       "      <th></th>\n",
       "      <th>A</th>\n",
       "      <th>AAL</th>\n",
       "      <th>AAP</th>\n",
       "      <th>AAPL</th>\n",
       "      <th>ABBV</th>\n",
       "      <th>ABC</th>\n",
       "      <th>ABMD</th>\n",
       "      <th>ABT</th>\n",
       "      <th>ACN</th>\n",
       "      <th>ADBE</th>\n",
       "      <th>...</th>\n",
       "      <th>XLNX</th>\n",
       "      <th>XOM</th>\n",
       "      <th>XRAY</th>\n",
       "      <th>XRX</th>\n",
       "      <th>XYL</th>\n",
       "      <th>YUM</th>\n",
       "      <th>ZBH</th>\n",
       "      <th>ZION</th>\n",
       "      <th>ZTS</th>\n",
       "      <th>^GSPC</th>\n",
       "    </tr>\n",
       "    <tr>\n",
       "      <th>Date</th>\n",
       "      <th></th>\n",
       "      <th></th>\n",
       "      <th></th>\n",
       "      <th></th>\n",
       "      <th></th>\n",
       "      <th></th>\n",
       "      <th></th>\n",
       "      <th></th>\n",
       "      <th></th>\n",
       "      <th></th>\n",
       "      <th></th>\n",
       "      <th></th>\n",
       "      <th></th>\n",
       "      <th></th>\n",
       "      <th></th>\n",
       "      <th></th>\n",
       "      <th></th>\n",
       "      <th></th>\n",
       "      <th></th>\n",
       "      <th></th>\n",
       "      <th></th>\n",
       "    </tr>\n",
       "  </thead>\n",
       "  <tbody>\n",
       "    <tr>\n",
       "      <th>2018-01-02</th>\n",
       "      <td>66.695694</td>\n",
       "      <td>52.006458</td>\n",
       "      <td>105.789520</td>\n",
       "      <td>167.701889</td>\n",
       "      <td>90.957497</td>\n",
       "      <td>91.112228</td>\n",
       "      <td>192.490005</td>\n",
       "      <td>57.017735</td>\n",
       "      <td>149.871857</td>\n",
       "      <td>177.699997</td>\n",
       "      <td>...</td>\n",
       "      <td>65.902611</td>\n",
       "      <td>78.854340</td>\n",
       "      <td>66.354515</td>\n",
       "      <td>27.771238</td>\n",
       "      <td>66.618118</td>\n",
       "      <td>79.217018</td>\n",
       "      <td>122.507782</td>\n",
       "      <td>48.687260</td>\n",
       "      <td>70.983826</td>\n",
       "      <td>2695.810059</td>\n",
       "    </tr>\n",
       "    <tr>\n",
       "      <th>2018-01-03</th>\n",
       "      <td>68.392677</td>\n",
       "      <td>51.368519</td>\n",
       "      <td>106.746803</td>\n",
       "      <td>167.672668</td>\n",
       "      <td>92.380867</td>\n",
       "      <td>91.451332</td>\n",
       "      <td>195.820007</td>\n",
       "      <td>57.143818</td>\n",
       "      <td>150.563538</td>\n",
       "      <td>181.039993</td>\n",
       "      <td>...</td>\n",
       "      <td>67.222992</td>\n",
       "      <td>80.403030</td>\n",
       "      <td>66.127213</td>\n",
       "      <td>27.733416</td>\n",
       "      <td>67.430420</td>\n",
       "      <td>79.149078</td>\n",
       "      <td>123.357033</td>\n",
       "      <td>48.629650</td>\n",
       "      <td>71.310211</td>\n",
       "      <td>2713.060059</td>\n",
       "    </tr>\n",
       "    <tr>\n",
       "      <th>2018-01-04</th>\n",
       "      <td>67.879646</td>\n",
       "      <td>51.692390</td>\n",
       "      <td>110.685616</td>\n",
       "      <td>168.451508</td>\n",
       "      <td>91.854034</td>\n",
       "      <td>91.247856</td>\n",
       "      <td>199.250000</td>\n",
       "      <td>57.046833</td>\n",
       "      <td>152.346329</td>\n",
       "      <td>183.220001</td>\n",
       "      <td>...</td>\n",
       "      <td>68.436569</td>\n",
       "      <td>80.514313</td>\n",
       "      <td>66.117325</td>\n",
       "      <td>28.073820</td>\n",
       "      <td>67.880608</td>\n",
       "      <td>79.954826</td>\n",
       "      <td>123.179283</td>\n",
       "      <td>48.831310</td>\n",
       "      <td>71.735512</td>\n",
       "      <td>2723.989990</td>\n",
       "    </tr>\n",
       "    <tr>\n",
       "      <th>2018-01-05</th>\n",
       "      <td>68.964928</td>\n",
       "      <td>51.672771</td>\n",
       "      <td>111.862274</td>\n",
       "      <td>170.369385</td>\n",
       "      <td>93.453026</td>\n",
       "      <td>92.352364</td>\n",
       "      <td>202.320007</td>\n",
       "      <td>57.211708</td>\n",
       "      <td>153.603058</td>\n",
       "      <td>185.339996</td>\n",
       "      <td>...</td>\n",
       "      <td>71.989967</td>\n",
       "      <td>80.449402</td>\n",
       "      <td>67.046333</td>\n",
       "      <td>28.281843</td>\n",
       "      <td>67.753387</td>\n",
       "      <td>80.420807</td>\n",
       "      <td>124.403770</td>\n",
       "      <td>48.850513</td>\n",
       "      <td>72.556412</td>\n",
       "      <td>2743.149902</td>\n",
       "    </tr>\n",
       "    <tr>\n",
       "      <th>2018-01-08</th>\n",
       "      <td>69.112915</td>\n",
       "      <td>51.162415</td>\n",
       "      <td>111.074501</td>\n",
       "      <td>169.736588</td>\n",
       "      <td>91.955704</td>\n",
       "      <td>93.883194</td>\n",
       "      <td>207.800003</td>\n",
       "      <td>57.046833</td>\n",
       "      <td>154.830551</td>\n",
       "      <td>185.039993</td>\n",
       "      <td>...</td>\n",
       "      <td>72.465683</td>\n",
       "      <td>80.811081</td>\n",
       "      <td>67.500954</td>\n",
       "      <td>28.612793</td>\n",
       "      <td>67.998055</td>\n",
       "      <td>80.556732</td>\n",
       "      <td>124.640770</td>\n",
       "      <td>48.610439</td>\n",
       "      <td>73.426773</td>\n",
       "      <td>2747.709961</td>\n",
       "    </tr>\n",
       "  </tbody>\n",
       "</table>\n",
       "<p>5 rows × 505 columns</p>\n",
       "</div>"
      ],
      "text/plain": [
       "                    A        AAL         AAP        AAPL       ABBV  \\\n",
       "Date                                                                  \n",
       "2018-01-02  66.695694  52.006458  105.789520  167.701889  90.957497   \n",
       "2018-01-03  68.392677  51.368519  106.746803  167.672668  92.380867   \n",
       "2018-01-04  67.879646  51.692390  110.685616  168.451508  91.854034   \n",
       "2018-01-05  68.964928  51.672771  111.862274  170.369385  93.453026   \n",
       "2018-01-08  69.112915  51.162415  111.074501  169.736588  91.955704   \n",
       "\n",
       "                  ABC        ABMD        ABT         ACN        ADBE  ...  \\\n",
       "Date                                                                  ...   \n",
       "2018-01-02  91.112228  192.490005  57.017735  149.871857  177.699997  ...   \n",
       "2018-01-03  91.451332  195.820007  57.143818  150.563538  181.039993  ...   \n",
       "2018-01-04  91.247856  199.250000  57.046833  152.346329  183.220001  ...   \n",
       "2018-01-05  92.352364  202.320007  57.211708  153.603058  185.339996  ...   \n",
       "2018-01-08  93.883194  207.800003  57.046833  154.830551  185.039993  ...   \n",
       "\n",
       "                 XLNX        XOM       XRAY        XRX        XYL        YUM  \\\n",
       "Date                                                                           \n",
       "2018-01-02  65.902611  78.854340  66.354515  27.771238  66.618118  79.217018   \n",
       "2018-01-03  67.222992  80.403030  66.127213  27.733416  67.430420  79.149078   \n",
       "2018-01-04  68.436569  80.514313  66.117325  28.073820  67.880608  79.954826   \n",
       "2018-01-05  71.989967  80.449402  67.046333  28.281843  67.753387  80.420807   \n",
       "2018-01-08  72.465683  80.811081  67.500954  28.612793  67.998055  80.556732   \n",
       "\n",
       "                   ZBH       ZION        ZTS        ^GSPC  \n",
       "Date                                                       \n",
       "2018-01-02  122.507782  48.687260  70.983826  2695.810059  \n",
       "2018-01-03  123.357033  48.629650  71.310211  2713.060059  \n",
       "2018-01-04  123.179283  48.831310  71.735512  2723.989990  \n",
       "2018-01-05  124.403770  48.850513  72.556412  2743.149902  \n",
       "2018-01-08  124.640770  48.610439  73.426773  2747.709961  \n",
       "\n",
       "[5 rows x 505 columns]"
      ]
     },
     "execution_count": 51,
     "metadata": {},
     "output_type": "execute_result"
    }
   ],
   "source": [
    "sp500.head()"
   ]
  },
  {
   "cell_type": "markdown",
   "metadata": {},
   "source": [
    "\n",
    "Do you want to have all SP500 dating to the earliest history? Yahoo finance dates back to 1980-01-01."
   ]
  },
  {
   "cell_type": "code",
   "execution_count": 22,
   "metadata": {},
   "outputs": [],
   "source": [
    "import time\n",
    "\n",
    "start_date = '1980-01-01'\n",
    "end_date = time.strftime(\"%Y-%m-%d\")\n",
    "\n",
    "sp500all = data.DataReader(tickers, 'yahoo', start_date, end_date)['Adj Close']"
   ]
  },
  {
   "cell_type": "markdown",
   "metadata": {},
   "source": [
    "Once it is in, we can check it. Note that most of the stock has no data entries in 1980."
   ]
  },
  {
   "cell_type": "code",
   "execution_count": 23,
   "metadata": {},
   "outputs": [
    {
     "data": {
      "text/html": [
       "<div>\n",
       "<style scoped>\n",
       "    .dataframe tbody tr th:only-of-type {\n",
       "        vertical-align: middle;\n",
       "    }\n",
       "\n",
       "    .dataframe tbody tr th {\n",
       "        vertical-align: top;\n",
       "    }\n",
       "\n",
       "    .dataframe thead th {\n",
       "        text-align: right;\n",
       "    }\n",
       "</style>\n",
       "<table border=\"1\" class=\"dataframe\">\n",
       "  <thead>\n",
       "    <tr style=\"text-align: right;\">\n",
       "      <th>Symbols</th>\n",
       "      <th>A</th>\n",
       "      <th>AAL</th>\n",
       "      <th>AAP</th>\n",
       "      <th>AAPL</th>\n",
       "      <th>ABBV</th>\n",
       "      <th>ABC</th>\n",
       "      <th>ABMD</th>\n",
       "      <th>ABT</th>\n",
       "      <th>ACN</th>\n",
       "      <th>ADBE</th>\n",
       "      <th>...</th>\n",
       "      <th>XLNX</th>\n",
       "      <th>XOM</th>\n",
       "      <th>XRAY</th>\n",
       "      <th>XRX</th>\n",
       "      <th>XYL</th>\n",
       "      <th>YUM</th>\n",
       "      <th>ZBH</th>\n",
       "      <th>ZION</th>\n",
       "      <th>ZTS</th>\n",
       "      <th>^GSPC</th>\n",
       "    </tr>\n",
       "    <tr>\n",
       "      <th>Date</th>\n",
       "      <th></th>\n",
       "      <th></th>\n",
       "      <th></th>\n",
       "      <th></th>\n",
       "      <th></th>\n",
       "      <th></th>\n",
       "      <th></th>\n",
       "      <th></th>\n",
       "      <th></th>\n",
       "      <th></th>\n",
       "      <th></th>\n",
       "      <th></th>\n",
       "      <th></th>\n",
       "      <th></th>\n",
       "      <th></th>\n",
       "      <th></th>\n",
       "      <th></th>\n",
       "      <th></th>\n",
       "      <th></th>\n",
       "      <th></th>\n",
       "      <th></th>\n",
       "    </tr>\n",
       "  </thead>\n",
       "  <tbody>\n",
       "    <tr>\n",
       "      <th>1980-01-02</th>\n",
       "      <td>NaN</td>\n",
       "      <td>NaN</td>\n",
       "      <td>NaN</td>\n",
       "      <td>NaN</td>\n",
       "      <td>NaN</td>\n",
       "      <td>NaN</td>\n",
       "      <td>NaN</td>\n",
       "      <td>NaN</td>\n",
       "      <td>NaN</td>\n",
       "      <td>NaN</td>\n",
       "      <td>...</td>\n",
       "      <td>NaN</td>\n",
       "      <td>0.076790</td>\n",
       "      <td>NaN</td>\n",
       "      <td>4.384870</td>\n",
       "      <td>NaN</td>\n",
       "      <td>NaN</td>\n",
       "      <td>NaN</td>\n",
       "      <td>NaN</td>\n",
       "      <td>NaN</td>\n",
       "      <td>105.760002</td>\n",
       "    </tr>\n",
       "    <tr>\n",
       "      <th>1980-01-03</th>\n",
       "      <td>NaN</td>\n",
       "      <td>NaN</td>\n",
       "      <td>NaN</td>\n",
       "      <td>NaN</td>\n",
       "      <td>NaN</td>\n",
       "      <td>NaN</td>\n",
       "      <td>NaN</td>\n",
       "      <td>NaN</td>\n",
       "      <td>NaN</td>\n",
       "      <td>NaN</td>\n",
       "      <td>...</td>\n",
       "      <td>NaN</td>\n",
       "      <td>0.074830</td>\n",
       "      <td>NaN</td>\n",
       "      <td>4.330515</td>\n",
       "      <td>NaN</td>\n",
       "      <td>NaN</td>\n",
       "      <td>NaN</td>\n",
       "      <td>NaN</td>\n",
       "      <td>NaN</td>\n",
       "      <td>105.220001</td>\n",
       "    </tr>\n",
       "    <tr>\n",
       "      <th>1980-01-04</th>\n",
       "      <td>NaN</td>\n",
       "      <td>NaN</td>\n",
       "      <td>NaN</td>\n",
       "      <td>NaN</td>\n",
       "      <td>NaN</td>\n",
       "      <td>NaN</td>\n",
       "      <td>NaN</td>\n",
       "      <td>NaN</td>\n",
       "      <td>NaN</td>\n",
       "      <td>NaN</td>\n",
       "      <td>...</td>\n",
       "      <td>NaN</td>\n",
       "      <td>0.075543</td>\n",
       "      <td>NaN</td>\n",
       "      <td>4.312393</td>\n",
       "      <td>NaN</td>\n",
       "      <td>NaN</td>\n",
       "      <td>NaN</td>\n",
       "      <td>NaN</td>\n",
       "      <td>NaN</td>\n",
       "      <td>106.519997</td>\n",
       "    </tr>\n",
       "    <tr>\n",
       "      <th>1980-01-07</th>\n",
       "      <td>NaN</td>\n",
       "      <td>NaN</td>\n",
       "      <td>NaN</td>\n",
       "      <td>NaN</td>\n",
       "      <td>NaN</td>\n",
       "      <td>NaN</td>\n",
       "      <td>NaN</td>\n",
       "      <td>NaN</td>\n",
       "      <td>NaN</td>\n",
       "      <td>NaN</td>\n",
       "      <td>...</td>\n",
       "      <td>NaN</td>\n",
       "      <td>0.075186</td>\n",
       "      <td>NaN</td>\n",
       "      <td>4.267096</td>\n",
       "      <td>NaN</td>\n",
       "      <td>NaN</td>\n",
       "      <td>NaN</td>\n",
       "      <td>NaN</td>\n",
       "      <td>NaN</td>\n",
       "      <td>106.809998</td>\n",
       "    </tr>\n",
       "    <tr>\n",
       "      <th>1980-01-08</th>\n",
       "      <td>NaN</td>\n",
       "      <td>NaN</td>\n",
       "      <td>NaN</td>\n",
       "      <td>NaN</td>\n",
       "      <td>NaN</td>\n",
       "      <td>NaN</td>\n",
       "      <td>NaN</td>\n",
       "      <td>NaN</td>\n",
       "      <td>NaN</td>\n",
       "      <td>NaN</td>\n",
       "      <td>...</td>\n",
       "      <td>NaN</td>\n",
       "      <td>0.075721</td>\n",
       "      <td>NaN</td>\n",
       "      <td>4.593242</td>\n",
       "      <td>NaN</td>\n",
       "      <td>NaN</td>\n",
       "      <td>NaN</td>\n",
       "      <td>NaN</td>\n",
       "      <td>NaN</td>\n",
       "      <td>108.949997</td>\n",
       "    </tr>\n",
       "  </tbody>\n",
       "</table>\n",
       "<p>5 rows × 506 columns</p>\n",
       "</div>"
      ],
      "text/plain": [
       "Symbols      A  AAL  AAP  AAPL  ABBV  ABC  ABMD  ABT  ACN  ADBE  ...  XLNX  \\\n",
       "Date                                                             ...         \n",
       "1980-01-02 NaN  NaN  NaN   NaN   NaN  NaN   NaN  NaN  NaN   NaN  ...   NaN   \n",
       "1980-01-03 NaN  NaN  NaN   NaN   NaN  NaN   NaN  NaN  NaN   NaN  ...   NaN   \n",
       "1980-01-04 NaN  NaN  NaN   NaN   NaN  NaN   NaN  NaN  NaN   NaN  ...   NaN   \n",
       "1980-01-07 NaN  NaN  NaN   NaN   NaN  NaN   NaN  NaN  NaN   NaN  ...   NaN   \n",
       "1980-01-08 NaN  NaN  NaN   NaN   NaN  NaN   NaN  NaN  NaN   NaN  ...   NaN   \n",
       "\n",
       "Symbols          XOM  XRAY       XRX  XYL  YUM  ZBH  ZION  ZTS       ^GSPC  \n",
       "Date                                                                        \n",
       "1980-01-02  0.076790   NaN  4.384870  NaN  NaN  NaN   NaN  NaN  105.760002  \n",
       "1980-01-03  0.074830   NaN  4.330515  NaN  NaN  NaN   NaN  NaN  105.220001  \n",
       "1980-01-04  0.075543   NaN  4.312393  NaN  NaN  NaN   NaN  NaN  106.519997  \n",
       "1980-01-07  0.075186   NaN  4.267096  NaN  NaN  NaN   NaN  NaN  106.809998  \n",
       "1980-01-08  0.075721   NaN  4.593242  NaN  NaN  NaN   NaN  NaN  108.949997  \n",
       "\n",
       "[5 rows x 506 columns]"
      ]
     },
     "execution_count": 23,
     "metadata": {},
     "output_type": "execute_result"
    }
   ],
   "source": [
    "sp500all.head()"
   ]
  },
  {
   "cell_type": "markdown",
   "metadata": {},
   "source": [
    "Better save it."
   ]
  },
  {
   "cell_type": "code",
   "execution_count": 24,
   "metadata": {},
   "outputs": [],
   "source": [
    "sp500all.to_csv('sp500all.csv')"
   ]
  },
  {
   "cell_type": "code",
   "execution_count": 52,
   "metadata": {},
   "outputs": [],
   "source": [
    "sp500all = pd.read_csv('sp500all.csv', index_col=0)"
   ]
  },
  {
   "cell_type": "code",
   "execution_count": 29,
   "metadata": {},
   "outputs": [],
   "source": [
    "logreturns = sp500.apply(np.log).diff()"
   ]
  },
  {
   "cell_type": "code",
   "execution_count": 70,
   "metadata": {},
   "outputs": [],
   "source": [
    "from datetime import datetime, timedelta\n",
    "\n",
    "d = datetime.today() - timedelta(days = 366)\n",
    "d.strftime(\"%Y-%m-%d\")\n",
    "\n",
    "Dates = pd.to_datetime(sp500.index, format='%Y-%m-%d')\n",
    "\n",
    "logreturns1y = logreturns[Dates > d]"
   ]
  },
  {
   "cell_type": "code",
   "execution_count": 68,
   "metadata": {},
   "outputs": [
    {
     "data": {
      "image/png": "[encoded data removed]",
      "text/plain": [
       "<Figure size 432x288 with 1 Axes>"
      ]
     },
     "metadata": {
      "needs_background": "light"
     },
     "output_type": "display_data"
    }
   ],
   "source": [
    "plt.figure(8)\n",
    "sp500all['^GSPC'].plot()\n",
    "plt.xlabel('Year')\n",
    "plt.ylabel('SP500 Index')\n",
    "plt.grid()\n",
    "plt.show()"
   ]
  },
  {
   "cell_type": "code",
   "execution_count": 71,
   "metadata": {},
   "outputs": [
    {
     "data": {
      "text/plain": [
       "<Figure size 432x288 with 0 Axes>"
      ]
     },
     "metadata": {},
     "output_type": "display_data"
    },
    {
     "data": {
      "image/png": "[encoded data removed]",
      "text/plain": [
       "<Figure size 432x288 with 1 Axes>"
      ]
     },
     "metadata": {
      "needs_background": "light"
     },
     "output_type": "display_data"
    }
   ],
   "source": [
    "plt.figure(9)\n",
    "fig, ax = plt.subplots(1)\n",
    "ax.plot(Dates,sp500['^GSPC'])\n",
    "\n",
    "fig.autofmt_xdate()\n",
    "#ax.fmt_xdata = mdates.DateFormatter('%Y-%m-%d')\n",
    "\n",
    "plt.xlabel('Time')\n",
    "plt.ylabel('SP500 Index')\n",
    "plt.grid()\n",
    "plt.show()"
   ]
  },
  {
   "cell_type": "code",
   "execution_count": 72,
   "metadata": {},
   "outputs": [
    {
     "data": {
      "image/png": "[encoded data removed]",
      "text/plain": [
       "<Figure size 432x288 with 1 Axes>"
      ]
     },
     "metadata": {
      "needs_background": "light"
     },
     "output_type": "display_data"
    }
   ],
   "source": [
    "plt.figure(10)\n",
    "logreturns1y['^GSPC'].plot()\n",
    "plt.xlabel('Time')\n",
    "plt.ylabel('SP500 Daily Returns')\n",
    "plt.grid()\n",
    "plt.show()"
   ]
  },
  {
   "cell_type": "code",
   "execution_count": 153,
   "metadata": {},
   "outputs": [
    {
     "data": {
      "text/plain": [
       "0.010503033377861695"
      ]
     },
     "execution_count": 153,
     "metadata": {},
     "output_type": "execute_result"
    }
   ],
   "source": [
    "np.std(logreturns1y['^GSPC'])"
   ]
  },
  {
   "cell_type": "code",
   "execution_count": 154,
   "metadata": {},
   "outputs": [
    {
     "data": {
      "text/plain": [
       "6.480924584127397e-05"
      ]
     },
     "execution_count": 154,
     "metadata": {},
     "output_type": "execute_result"
    }
   ],
   "source": [
    "np.mean(logreturns1y['^GSPC'])"
   ]
  },
  {
   "cell_type": "code",
   "execution_count": 61,
   "metadata": {},
   "outputs": [],
   "source": [
    "x=np.linspace(-0.05,0.05,4000)"
   ]
  },
  {
   "cell_type": "code",
   "execution_count": 74,
   "metadata": {},
   "outputs": [
    {
     "name": "stdout",
     "output_type": "stream",
     "text": [
      "(2.919084556757569, 0.0012602911741841757, 0.006313085218724972)\n"
     ]
    }
   ],
   "source": [
    "tfit = sp.t.fit(logreturns1y['^GSPC'])\n",
    "print(tfit)"
   ]
  },
  {
   "cell_type": "code",
   "execution_count": 75,
   "metadata": {},
   "outputs": [
    {
     "data": {
      "image/png": "[encoded data removed]",
      "text/plain": [
       "<Figure size 432x288 with 1 Axes>"
      ]
     },
     "metadata": {
      "needs_background": "light"
     },
     "output_type": "display_data"
    }
   ],
   "source": [
    "plt.figure(11)\n",
    "plt.hist(logreturns1y['^GSPC'], bins=30, density=True)\n",
    "plt.plot(x,sp.norm.pdf(x,np.mean(logreturns1y['^GSPC']),np.std(logreturns1y['^GSPC'])), color='g', label='Normal')\n",
    "plt.plot(x,sp.t.pdf(x, tfit[0], tfit[1], tfit[2]), color = 'r', label='Student t')\n",
    "plt.legend()\n",
    "plt.xlabel('Daily SP500 Return')\n",
    "plt.ylabel('Density')\n",
    "plt.grid()\n",
    "plt.show()"
   ]
  },
  {
   "cell_type": "code",
   "execution_count": 35,
   "metadata": {},
   "outputs": [],
   "source": [
    "sigma = np.sqrt(250)*logreturns1y.std()\n",
    "mu = 250*logreturns1y.mean()\n",
    "names = sp500.columns"
   ]
  },
  {
   "cell_type": "code",
   "execution_count": 36,
   "metadata": {},
   "outputs": [
    {
     "data": {
      "text/plain": [
       "<Figure size 432x288 with 0 Axes>"
      ]
     },
     "metadata": {},
     "output_type": "display_data"
    },
    {
     "data": {
      "image/png": "[encoded data removed]",
      "text/plain": [
       "<Figure size 1800x1080 with 1 Axes>"
      ]
     },
     "metadata": {
      "needs_background": "light"
     },
     "output_type": "display_data"
    }
   ],
   "source": [
    "plt.figure(12)\n",
    "\n",
    "fig, ax = plt.subplots(1, 1, figsize = (25, 15))\n",
    "\n",
    "ax.scatter(sigma, mu)\n",
    "\n",
    "# Highlight the index itself. It should have a small variance.\n",
    "\n",
    "plt.xlabel('$\\sigma$')\n",
    "plt.ylabel('$\\mu$')\n",
    "\n",
    "\n",
    "plt.plot(sigma[-1],mu[-1], 'ro', ms = 5)\n",
    "#plt.plot(sigma[\"DIS\"],mu[\"DIS\"], 'ro', ms = 10)\n",
    "#plt.plot(sigma[\"AAPL\"],mu[\"AAPL\"], 'ro', ms = 10)\n",
    "\n",
    "# Add the ticker names.\n",
    "\n",
    "for i, txt in enumerate(names):\n",
    "    ax.annotate(txt, (sigma[i], mu[i]))\n",
    "    \n",
    "# Benchmark line. \n",
    "    \n",
    "plt.axhline(y=0, color='k', linestyle='-')    \n",
    "plt.grid()\n",
    "plt.show()"
   ]
  },
  {
   "cell_type": "code",
   "execution_count": 164,
   "metadata": {},
   "outputs": [
    {
     "name": "stdout",
     "output_type": "stream",
     "text": [
      "Symbols\n",
      "AEE     1.629661\n",
      "AEP     2.128377\n",
      "AMT     2.258365\n",
      "AWK     2.170322\n",
      "BLL     2.190525\n",
      "CINF    2.149630\n",
      "CMG     1.914819\n",
      "CMS     1.886089\n",
      "CPRT    1.683181\n",
      "DUK     1.639686\n",
      "ED      1.633688\n",
      "EQR     1.853547\n",
      "ES      2.502921\n",
      "ESS     1.817159\n",
      "ETR     2.693379\n",
      "EXR     1.907204\n",
      "FE      1.863480\n",
      "HCP     1.746258\n",
      "HSY     2.489144\n",
      "LNT     1.736063\n",
      "MAA     1.738341\n",
      "MCD     1.639568\n",
      "MDLZ    1.624922\n",
      "MKTX    1.933829\n",
      "NEE     2.290757\n",
      "O       1.841528\n",
      "PG      2.245236\n",
      "SBAC    1.892125\n",
      "SBUX    1.982208\n",
      "SO      2.604086\n",
      "SRE     1.712958\n",
      "VTR     1.740237\n",
      "WEC     2.404358\n",
      "WELL    1.905506\n",
      "XEL     2.284501\n",
      "dtype: float64\n",
      "35\n"
     ]
    }
   ],
   "source": [
    "sharpe = mu/sigma\n",
    "\n",
    "# Print stocks with a high Sharpe ratio\n",
    "\n",
    "print(sharpe[sharpe > 1.6])\n",
    "print(len(sharpe[sharpe > 1.6]))"
   ]
  },
  {
   "cell_type": "code",
   "execution_count": 76,
   "metadata": {},
   "outputs": [],
   "source": [
    "import statsmodels.api as sm\n",
    "\n",
    "# Run CAPM regression, and store the results corresponding to alpha, beta, and\n",
    "# statistical significance of alpha.\n",
    "\n",
    "capm = pd.DataFrame(index=sp500.columns, columns=['alpha', 'beta', 'Pa-value'])\n",
    "\n",
    "\n",
    "for i in range(len(sp500.columns)):\n",
    "    model = sm.OLS(logreturns1y.iloc[:,i],sm.add_constant(logreturns1y.iloc[:,-1]), missing='drop')\n",
    "    capm.iat[i,0] = 250*model.fit().params[0]\n",
    "    capm.iat[i,1] = model.fit().params[1]\n",
    "    capm.iat[i,2] = model.fit().pvalues[0]"
   ]
  },
  {
   "cell_type": "code",
   "execution_count": 77,
   "metadata": {},
   "outputs": [
    {
     "data": {
      "text/html": [
       "<div>\n",
       "<style scoped>\n",
       "    .dataframe tbody tr th:only-of-type {\n",
       "        vertical-align: middle;\n",
       "    }\n",
       "\n",
       "    .dataframe tbody tr th {\n",
       "        vertical-align: top;\n",
       "    }\n",
       "\n",
       "    .dataframe thead th {\n",
       "        text-align: right;\n",
       "    }\n",
       "</style>\n",
       "<table border=\"1\" class=\"dataframe\">\n",
       "  <thead>\n",
       "    <tr style=\"text-align: right;\">\n",
       "      <th></th>\n",
       "      <th>alpha</th>\n",
       "      <th>beta</th>\n",
       "      <th>Pa-value</th>\n",
       "    </tr>\n",
       "    <tr>\n",
       "      <th>Symbols</th>\n",
       "      <th></th>\n",
       "      <th></th>\n",
       "      <th></th>\n",
       "    </tr>\n",
       "  </thead>\n",
       "  <tbody>\n",
       "    <tr>\n",
       "      <th>A</th>\n",
       "      <td>0.021666</td>\n",
       "      <td>1.13315</td>\n",
       "      <td>0.920652</td>\n",
       "    </tr>\n",
       "    <tr>\n",
       "      <th>AAL</th>\n",
       "      <td>-0.328555</td>\n",
       "      <td>1.48004</td>\n",
       "      <td>0.308536</td>\n",
       "    </tr>\n",
       "    <tr>\n",
       "      <th>AAP</th>\n",
       "      <td>-0.0739147</td>\n",
       "      <td>0.696926</td>\n",
       "      <td>0.77629</td>\n",
       "    </tr>\n",
       "    <tr>\n",
       "      <th>AAPL</th>\n",
       "      <td>0.0403149</td>\n",
       "      <td>1.55701</td>\n",
       "      <td>0.829326</td>\n",
       "    </tr>\n",
       "    <tr>\n",
       "      <th>ABBV</th>\n",
       "      <td>0.00132441</td>\n",
       "      <td>0.901138</td>\n",
       "      <td>0.996038</td>\n",
       "    </tr>\n",
       "    <tr>\n",
       "      <th>ABC</th>\n",
       "      <td>-0.0851797</td>\n",
       "      <td>0.753052</td>\n",
       "      <td>0.744993</td>\n",
       "    </tr>\n",
       "    <tr>\n",
       "      <th>ABMD</th>\n",
       "      <td>-0.747096</td>\n",
       "      <td>1.58744</td>\n",
       "      <td>0.123943</td>\n",
       "    </tr>\n",
       "    <tr>\n",
       "      <th>ABT</th>\n",
       "      <td>0.0418338</td>\n",
       "      <td>1.0818</td>\n",
       "      <td>0.783564</td>\n",
       "    </tr>\n",
       "    <tr>\n",
       "      <th>ACN</th>\n",
       "      <td>0.0664518</td>\n",
       "      <td>0.998838</td>\n",
       "      <td>0.600951</td>\n",
       "    </tr>\n",
       "    <tr>\n",
       "      <th>ADBE</th>\n",
       "      <td>-0.0400318</td>\n",
       "      <td>1.52412</td>\n",
       "      <td>0.835265</td>\n",
       "    </tr>\n",
       "    <tr>\n",
       "      <th>ADI</th>\n",
       "      <td>0.100628</td>\n",
       "      <td>1.34609</td>\n",
       "      <td>0.660969</td>\n",
       "    </tr>\n",
       "    <tr>\n",
       "      <th>ADM</th>\n",
       "      <td>-0.17334</td>\n",
       "      <td>0.808506</td>\n",
       "      <td>0.320109</td>\n",
       "    </tr>\n",
       "    <tr>\n",
       "      <th>ADP</th>\n",
       "      <td>0.0322885</td>\n",
       "      <td>1.04592</td>\n",
       "      <td>0.800172</td>\n",
       "    </tr>\n",
       "    <tr>\n",
       "      <th>ADS</th>\n",
       "      <td>-0.83152</td>\n",
       "      <td>1.27726</td>\n",
       "      <td>0.00847312</td>\n",
       "    </tr>\n",
       "    <tr>\n",
       "      <th>ADSK</th>\n",
       "      <td>-0.0720488</td>\n",
       "      <td>1.57076</td>\n",
       "      <td>0.76565</td>\n",
       "    </tr>\n",
       "    <tr>\n",
       "      <th>AEE</th>\n",
       "      <td>0.168816</td>\n",
       "      <td>0.290153</td>\n",
       "      <td>0.274211</td>\n",
       "    </tr>\n",
       "    <tr>\n",
       "      <th>AEP</th>\n",
       "      <td>0.251799</td>\n",
       "      <td>0.199141</td>\n",
       "      <td>0.0820874</td>\n",
       "    </tr>\n",
       "    <tr>\n",
       "      <th>AES</th>\n",
       "      <td>0.123904</td>\n",
       "      <td>0.689608</td>\n",
       "      <td>0.543004</td>\n",
       "    </tr>\n",
       "    <tr>\n",
       "      <th>AFL</th>\n",
       "      <td>0.153048</td>\n",
       "      <td>0.71595</td>\n",
       "      <td>0.26802</td>\n",
       "    </tr>\n",
       "    <tr>\n",
       "      <th>AGN</th>\n",
       "      <td>0.0221763</td>\n",
       "      <td>0.729366</td>\n",
       "      <td>0.945707</td>\n",
       "    </tr>\n",
       "    <tr>\n",
       "      <th>AIG</th>\n",
       "      <td>0.151336</td>\n",
       "      <td>0.929699</td>\n",
       "      <td>0.486219</td>\n",
       "    </tr>\n",
       "    <tr>\n",
       "      <th>AIV</th>\n",
       "      <td>0.205796</td>\n",
       "      <td>0.453927</td>\n",
       "      <td>0.191821</td>\n",
       "    </tr>\n",
       "    <tr>\n",
       "      <th>AIZ</th>\n",
       "      <td>0.197573</td>\n",
       "      <td>0.77431</td>\n",
       "      <td>0.225371</td>\n",
       "    </tr>\n",
       "    <tr>\n",
       "      <th>AJG</th>\n",
       "      <td>0.119019</td>\n",
       "      <td>0.771193</td>\n",
       "      <td>0.351643</td>\n",
       "    </tr>\n",
       "    <tr>\n",
       "      <th>AKAM</th>\n",
       "      <td>0.0628586</td>\n",
       "      <td>1.10361</td>\n",
       "      <td>0.713889</td>\n",
       "    </tr>\n",
       "    <tr>\n",
       "      <th>ALB</th>\n",
       "      <td>-0.612233</td>\n",
       "      <td>1.47347</td>\n",
       "      <td>0.0349019</td>\n",
       "    </tr>\n",
       "    <tr>\n",
       "      <th>ALGN</th>\n",
       "      <td>-0.0921738</td>\n",
       "      <td>1.72488</td>\n",
       "      <td>0.841535</td>\n",
       "    </tr>\n",
       "    <tr>\n",
       "      <th>ALK</th>\n",
       "      <td>0.00319823</td>\n",
       "      <td>0.967836</td>\n",
       "      <td>0.988391</td>\n",
       "    </tr>\n",
       "    <tr>\n",
       "      <th>ALL</th>\n",
       "      <td>0.104502</td>\n",
       "      <td>0.725364</td>\n",
       "      <td>0.464866</td>\n",
       "    </tr>\n",
       "    <tr>\n",
       "      <th>ALLE</th>\n",
       "      <td>0.194607</td>\n",
       "      <td>0.882262</td>\n",
       "      <td>0.235835</td>\n",
       "    </tr>\n",
       "    <tr>\n",
       "      <th>...</th>\n",
       "      <td>...</td>\n",
       "      <td>...</td>\n",
       "      <td>...</td>\n",
       "    </tr>\n",
       "    <tr>\n",
       "      <th>VZ</th>\n",
       "      <td>0.0530971</td>\n",
       "      <td>0.357082</td>\n",
       "      <td>0.750978</td>\n",
       "    </tr>\n",
       "    <tr>\n",
       "      <th>WAB</th>\n",
       "      <td>-0.236313</td>\n",
       "      <td>1.20544</td>\n",
       "      <td>0.455637</td>\n",
       "    </tr>\n",
       "    <tr>\n",
       "      <th>WAT</th>\n",
       "      <td>-0.0110362</td>\n",
       "      <td>0.942975</td>\n",
       "      <td>0.964374</td>\n",
       "    </tr>\n",
       "    <tr>\n",
       "      <th>WBA</th>\n",
       "      <td>-0.380536</td>\n",
       "      <td>1.03028</td>\n",
       "      <td>0.117054</td>\n",
       "    </tr>\n",
       "    <tr>\n",
       "      <th>WCG</th>\n",
       "      <td>0.0115619</td>\n",
       "      <td>0.867973</td>\n",
       "      <td>0.966008</td>\n",
       "    </tr>\n",
       "    <tr>\n",
       "      <th>WDC</th>\n",
       "      <td>-0.0314713</td>\n",
       "      <td>1.77296</td>\n",
       "      <td>0.93929</td>\n",
       "    </tr>\n",
       "    <tr>\n",
       "      <th>WEC</th>\n",
       "      <td>0.319902</td>\n",
       "      <td>0.177554</td>\n",
       "      <td>0.0399002</td>\n",
       "    </tr>\n",
       "    <tr>\n",
       "      <th>WELL</th>\n",
       "      <td>0.286935</td>\n",
       "      <td>0.281281</td>\n",
       "      <td>0.132203</td>\n",
       "    </tr>\n",
       "    <tr>\n",
       "      <th>WFC</th>\n",
       "      <td>-0.0852984</td>\n",
       "      <td>0.87102</td>\n",
       "      <td>0.606557</td>\n",
       "    </tr>\n",
       "    <tr>\n",
       "      <th>WHR</th>\n",
       "      <td>0.193408</td>\n",
       "      <td>1.07917</td>\n",
       "      <td>0.448908</td>\n",
       "    </tr>\n",
       "    <tr>\n",
       "      <th>WLTW</th>\n",
       "      <td>0.123146</td>\n",
       "      <td>0.771208</td>\n",
       "      <td>0.444645</td>\n",
       "    </tr>\n",
       "    <tr>\n",
       "      <th>WM</th>\n",
       "      <td>0.194814</td>\n",
       "      <td>0.533191</td>\n",
       "      <td>0.141543</td>\n",
       "    </tr>\n",
       "    <tr>\n",
       "      <th>WMB</th>\n",
       "      <td>-0.143757</td>\n",
       "      <td>0.892962</td>\n",
       "      <td>0.432501</td>\n",
       "    </tr>\n",
       "    <tr>\n",
       "      <th>WMT</th>\n",
       "      <td>0.0924685</td>\n",
       "      <td>0.625809</td>\n",
       "      <td>0.505132</td>\n",
       "    </tr>\n",
       "    <tr>\n",
       "      <th>WRK</th>\n",
       "      <td>-0.245757</td>\n",
       "      <td>1.32112</td>\n",
       "      <td>0.36095</td>\n",
       "    </tr>\n",
       "    <tr>\n",
       "      <th>WU</th>\n",
       "      <td>0.34753</td>\n",
       "      <td>0.706151</td>\n",
       "      <td>0.0220821</td>\n",
       "    </tr>\n",
       "    <tr>\n",
       "      <th>WY</th>\n",
       "      <td>0.0382189</td>\n",
       "      <td>0.878051</td>\n",
       "      <td>0.85883</td>\n",
       "    </tr>\n",
       "    <tr>\n",
       "      <th>WYNN</th>\n",
       "      <td>-0.059426</td>\n",
       "      <td>1.77001</td>\n",
       "      <td>0.865605</td>\n",
       "    </tr>\n",
       "    <tr>\n",
       "      <th>XEC</th>\n",
       "      <td>-0.72957</td>\n",
       "      <td>1.67363</td>\n",
       "      <td>0.0643993</td>\n",
       "    </tr>\n",
       "    <tr>\n",
       "      <th>XEL</th>\n",
       "      <td>0.250901</td>\n",
       "      <td>0.263774</td>\n",
       "      <td>0.094625</td>\n",
       "    </tr>\n",
       "    <tr>\n",
       "      <th>XLNX</th>\n",
       "      <td>-0.0366432</td>\n",
       "      <td>1.45566</td>\n",
       "      <td>0.920376</td>\n",
       "    </tr>\n",
       "    <tr>\n",
       "      <th>XOM</th>\n",
       "      <td>-0.202039</td>\n",
       "      <td>0.927255</td>\n",
       "      <td>0.155418</td>\n",
       "    </tr>\n",
       "    <tr>\n",
       "      <th>XRAY</th>\n",
       "      <td>0.386616</td>\n",
       "      <td>0.738227</td>\n",
       "      <td>0.101462</td>\n",
       "    </tr>\n",
       "    <tr>\n",
       "      <th>XRX</th>\n",
       "      <td>0.0692896</td>\n",
       "      <td>1.37666</td>\n",
       "      <td>0.805787</td>\n",
       "    </tr>\n",
       "    <tr>\n",
       "      <th>XYL</th>\n",
       "      <td>0.0159934</td>\n",
       "      <td>1.15614</td>\n",
       "      <td>0.928854</td>\n",
       "    </tr>\n",
       "    <tr>\n",
       "      <th>YUM</th>\n",
       "      <td>0.0774919</td>\n",
       "      <td>0.517118</td>\n",
       "      <td>0.606465</td>\n",
       "    </tr>\n",
       "    <tr>\n",
       "      <th>ZBH</th>\n",
       "      <td>0.0640569</td>\n",
       "      <td>0.931261</td>\n",
       "      <td>0.729728</td>\n",
       "    </tr>\n",
       "    <tr>\n",
       "      <th>ZION</th>\n",
       "      <td>-0.0567305</td>\n",
       "      <td>1.02122</td>\n",
       "      <td>0.791559</td>\n",
       "    </tr>\n",
       "    <tr>\n",
       "      <th>ZTS</th>\n",
       "      <td>0.186358</td>\n",
       "      <td>0.953293</td>\n",
       "      <td>0.258312</td>\n",
       "    </tr>\n",
       "    <tr>\n",
       "      <th>^GSPC</th>\n",
       "      <td>1.69407e-17</td>\n",
       "      <td>1</td>\n",
       "      <td>0.805397</td>\n",
       "    </tr>\n",
       "  </tbody>\n",
       "</table>\n",
       "<p>506 rows × 3 columns</p>\n",
       "</div>"
      ],
      "text/plain": [
       "               alpha      beta    Pa-value\n",
       "Symbols                                   \n",
       "A           0.021666   1.13315    0.920652\n",
       "AAL        -0.328555   1.48004    0.308536\n",
       "AAP       -0.0739147  0.696926     0.77629\n",
       "AAPL       0.0403149   1.55701    0.829326\n",
       "ABBV      0.00132441  0.901138    0.996038\n",
       "ABC       -0.0851797  0.753052    0.744993\n",
       "ABMD       -0.747096   1.58744    0.123943\n",
       "ABT        0.0418338    1.0818    0.783564\n",
       "ACN        0.0664518  0.998838    0.600951\n",
       "ADBE      -0.0400318   1.52412    0.835265\n",
       "ADI         0.100628   1.34609    0.660969\n",
       "ADM         -0.17334  0.808506    0.320109\n",
       "ADP        0.0322885   1.04592    0.800172\n",
       "ADS         -0.83152   1.27726  0.00847312\n",
       "ADSK      -0.0720488   1.57076     0.76565\n",
       "AEE         0.168816  0.290153    0.274211\n",
       "AEP         0.251799  0.199141   0.0820874\n",
       "AES         0.123904  0.689608    0.543004\n",
       "AFL         0.153048   0.71595     0.26802\n",
       "AGN        0.0221763  0.729366    0.945707\n",
       "AIG         0.151336  0.929699    0.486219\n",
       "AIV         0.205796  0.453927    0.191821\n",
       "AIZ         0.197573   0.77431    0.225371\n",
       "AJG         0.119019  0.771193    0.351643\n",
       "AKAM       0.0628586   1.10361    0.713889\n",
       "ALB        -0.612233   1.47347   0.0349019\n",
       "ALGN      -0.0921738   1.72488    0.841535\n",
       "ALK       0.00319823  0.967836    0.988391\n",
       "ALL         0.104502  0.725364    0.464866\n",
       "ALLE        0.194607  0.882262    0.235835\n",
       "...              ...       ...         ...\n",
       "VZ         0.0530971  0.357082    0.750978\n",
       "WAB        -0.236313   1.20544    0.455637\n",
       "WAT       -0.0110362  0.942975    0.964374\n",
       "WBA        -0.380536   1.03028    0.117054\n",
       "WCG        0.0115619  0.867973    0.966008\n",
       "WDC       -0.0314713   1.77296     0.93929\n",
       "WEC         0.319902  0.177554   0.0399002\n",
       "WELL        0.286935  0.281281    0.132203\n",
       "WFC       -0.0852984   0.87102    0.606557\n",
       "WHR         0.193408   1.07917    0.448908\n",
       "WLTW        0.123146  0.771208    0.444645\n",
       "WM          0.194814  0.533191    0.141543\n",
       "WMB        -0.143757  0.892962    0.432501\n",
       "WMT        0.0924685  0.625809    0.505132\n",
       "WRK        -0.245757   1.32112     0.36095\n",
       "WU           0.34753  0.706151   0.0220821\n",
       "WY         0.0382189  0.878051     0.85883\n",
       "WYNN       -0.059426   1.77001    0.865605\n",
       "XEC         -0.72957   1.67363   0.0643993\n",
       "XEL         0.250901  0.263774    0.094625\n",
       "XLNX      -0.0366432   1.45566    0.920376\n",
       "XOM        -0.202039  0.927255    0.155418\n",
       "XRAY        0.386616  0.738227    0.101462\n",
       "XRX        0.0692896   1.37666    0.805787\n",
       "XYL        0.0159934   1.15614    0.928854\n",
       "YUM        0.0774919  0.517118    0.606465\n",
       "ZBH        0.0640569  0.931261    0.729728\n",
       "ZION      -0.0567305   1.02122    0.791559\n",
       "ZTS         0.186358  0.953293    0.258312\n",
       "^GSPC    1.69407e-17         1    0.805397\n",
       "\n",
       "[506 rows x 3 columns]"
      ]
     },
     "execution_count": 77,
     "metadata": {},
     "output_type": "execute_result"
    }
   ],
   "source": [
    "capm"
   ]
  },
  {
   "cell_type": "code",
   "execution_count": 167,
   "metadata": {},
   "outputs": [
    {
     "name": "stdout",
     "output_type": "stream",
     "text": [
      "            alpha      beta    Pa-value\n",
      "Symbols                                \n",
      "ADS     -0.626455   1.19931   0.0305588\n",
      "AEP       0.32985   0.13344   0.0336376\n",
      "AMG     -0.515729   1.24668   0.0369458\n",
      "AMT      0.435234  0.313588    0.021329\n",
      "AWK      0.370129  0.241244   0.0281332\n",
      "BLL      0.494317  0.741884   0.0120437\n",
      "CINF      0.42484  0.690607   0.0116403\n",
      "CMG      0.550655  0.745191   0.0398003\n",
      "CPRI    -0.771665   1.16344   0.0442146\n",
      "CPRT     0.425563   1.04221   0.0321804\n",
      "DXC      -1.14937   1.48731   0.0180807\n",
      "ES       0.367368  0.175582   0.0119062\n",
      "ETR      0.419625  0.172791  0.00695574\n",
      "HAL     -0.755377    1.2468   0.0198157\n",
      "HSY      0.431305  0.226948   0.0120986\n",
      "KLAC     0.452637   1.50993   0.0481758\n",
      "NEE      0.354481  0.181006   0.0214016\n",
      "NKTR     -1.24394   1.49521   0.0461067\n",
      "OXY     -0.543068  0.957907   0.0378877\n",
      "PG       0.428415  0.476538   0.0164174\n",
      "SBAC     0.393607  0.479731   0.0463004\n",
      "SBUX     0.437729  0.739296   0.0224933\n",
      "SLB     -0.540965   1.08112   0.0479612\n",
      "SO       0.399799  0.164387  0.00911521\n",
      "WEC      0.391193  0.141769   0.0164352\n",
      "XEL      0.362055  0.206526   0.0212799\n",
      "26\n"
     ]
    }
   ],
   "source": [
    "candidates = capm[capm['Pa-value'] < 0.05]  \n",
    "print(candidates)\n",
    "print(len(candidates))"
   ]
  },
  {
   "cell_type": "code",
   "execution_count": 78,
   "metadata": {},
   "outputs": [
    {
     "name": "stdout",
     "output_type": "stream",
     "text": [
      "            alpha      beta   Pa-value\n",
      "Symbols                               \n",
      "AEP      0.251799  0.199141  0.0820874\n",
      "BKR      0.576488 -0.126485   0.359234\n",
      "EVRG     0.133079  0.171755    0.37424\n",
      "NEM      0.230403 -0.037552   0.383581\n",
      "PSA      0.103127  0.103412   0.556531\n",
      "WEC      0.319902  0.177554  0.0399002\n"
     ]
    }
   ],
   "source": [
    "low_beta = capm[capm['beta'] < 0.2]\n",
    "print(low_beta)"
   ]
  },
  {
   "cell_type": "code",
   "execution_count": 169,
   "metadata": {},
   "outputs": [
    {
     "name": "stdout",
     "output_type": "stream",
     "text": [
      "                            OLS Regression Results                            \n",
      "==============================================================================\n",
      "Dep. Variable:                    NEM   R-squared:                       0.005\n",
      "Model:                            OLS   Adj. R-squared:                  0.001\n",
      "Method:                 Least Squares   F-statistic:                     1.254\n",
      "Date:                Sat, 28 Sep 2019   Prob (F-statistic):              0.264\n",
      "Time:                        12:56:00   Log-Likelihood:                 653.27\n",
      "No. Observations:                 251   AIC:                            -1303.\n",
      "Df Residuals:                     249   BIC:                            -1295.\n",
      "Df Model:                           1                                         \n",
      "Covariance Type:            nonrobust                                         \n",
      "==============================================================================\n",
      "                 coef    std err          t      P>|t|      [0.025      0.975]\n",
      "------------------------------------------------------------------------------\n",
      "const          0.0012      0.001      1.032      0.303      -0.001       0.003\n",
      "^GSPC         -0.1211      0.108     -1.120      0.264      -0.334       0.092\n",
      "==============================================================================\n",
      "Omnibus:                       49.916   Durbin-Watson:                   2.023\n",
      "Prob(Omnibus):                  0.000   Jarque-Bera (JB):              210.246\n",
      "Skew:                          -0.719   Prob(JB):                     2.22e-46\n",
      "Kurtosis:                       7.247   Cond. No.                         95.2\n",
      "==============================================================================\n",
      "\n",
      "Warnings:\n",
      "[1] Standard Errors assume that the covariance matrix of the errors is correctly specified.\n"
     ]
    },
    {
     "data": {
      "image/png": "[encoded data removed]",
      "text/plain": [
       "<Figure size 432x288 with 1 Axes>"
      ]
     },
     "metadata": {
      "needs_background": "light"
     },
     "output_type": "display_data"
    }
   ],
   "source": [
    "plt.figure(13)\n",
    "plt.plot(logreturns1y['NEM'],logreturns1y['^GSPC'],'.', ms=2)\n",
    "plt.xlim(-0.07,0.07)\n",
    "\n",
    "model1 = sm.OLS(logreturns1y['NEM'],sm.add_constant(logreturns1y['^GSPC']),missing='drop')\n",
    "print(model1.fit().summary())\n",
    "\n",
    "x=np.linspace(-0.07,0.07,1000)\n",
    "coefs = model1.fit().params\n",
    "plt.plot(x,coefs[0]+coefs[1]*x,'r')\n",
    "\n",
    "\n",
    "plt.xlabel('SP500 Returns')\n",
    "plt.ylabel('NEM Returns')\n",
    "plt.grid()\n",
    "plt.show()"
   ]
  },
  {
   "cell_type": "code",
   "execution_count": 170,
   "metadata": {},
   "outputs": [
    {
     "name": "stdout",
     "output_type": "stream",
     "text": [
      "                            OLS Regression Results                            \n",
      "==============================================================================\n",
      "Dep. Variable:                    NKE   R-squared:                       0.514\n",
      "Model:                            OLS   Adj. R-squared:                  0.512\n",
      "Method:                 Least Squares   F-statistic:                     263.2\n",
      "Date:                Sat, 28 Sep 2019   Prob (F-statistic):           7.05e-41\n",
      "Time:                        12:57:54   Log-Likelihood:                 755.57\n",
      "No. Observations:                 251   AIC:                            -1507.\n",
      "Df Residuals:                     249   BIC:                            -1500.\n",
      "Df Model:                           1                                         \n",
      "Covariance Type:            nonrobust                                         \n",
      "==============================================================================\n",
      "                 coef    std err          t      P>|t|      [0.025      0.975]\n",
      "------------------------------------------------------------------------------\n",
      "const          0.0003      0.001      0.421      0.674      -0.001       0.002\n",
      "^GSPC          1.1673      0.072     16.223      0.000       1.026       1.309\n",
      "==============================================================================\n",
      "Omnibus:                      126.444   Durbin-Watson:                   2.318\n",
      "Prob(Omnibus):                  0.000   Jarque-Bera (JB):             2287.222\n",
      "Skew:                           1.524   Prob(JB):                         0.00\n",
      "Kurtosis:                      17.471   Cond. No.                         95.2\n",
      "==============================================================================\n",
      "\n",
      "Warnings:\n",
      "[1] Standard Errors assume that the covariance matrix of the errors is correctly specified.\n"
     ]
    },
    {
     "data": {
      "image/png": "[encoded data removed]",
      "text/plain": [
       "<Figure size 432x288 with 1 Axes>"
      ]
     },
     "metadata": {
      "needs_background": "light"
     },
     "output_type": "display_data"
    }
   ],
   "source": [
    "plt.figure(13)\n",
    "plt.plot(logreturns1y['NKE'],logreturns1y['^GSPC'],'.', ms=2)\n",
    "plt.xlim(-0.07,0.07)\n",
    "\n",
    "model1 = sm.OLS(logreturns1y['NKE'],sm.add_constant(logreturns1y['^GSPC']),missing='drop')\n",
    "print(model1.fit().summary())\n",
    "\n",
    "x=np.linspace(-0.07,0.07,1000)\n",
    "coefs = model1.fit().params\n",
    "plt.plot(x,coefs[0]+coefs[1]*x,'r')\n",
    "\n",
    "\n",
    "plt.xlabel('SP500 Returns')\n",
    "plt.ylabel('NEM Returns')\n",
    "plt.grid()\n",
    "plt.show()"
   ]
  },
  {
   "cell_type": "code",
   "execution_count": 171,
   "metadata": {},
   "outputs": [
    {
     "data": {
      "text/plain": [
       "<Figure size 432x288 with 0 Axes>"
      ]
     },
     "metadata": {},
     "output_type": "display_data"
    },
    {
     "data": {
      "image/png": "[encoded data removed]",
      "text/plain": [
       "<Figure size 432x288 with 1 Axes>"
      ]
     },
     "metadata": {
      "needs_background": "light"
     },
     "output_type": "display_data"
    }
   ],
   "source": [
    "plt.figure(15)\n",
    "\n",
    "fig, ax = plt.subplots(1)\n",
    "ax.plot(Dates, sp500['NKE'])\n",
    "\n",
    "fig.autofmt_xdate()\n",
    "#ax.fmt_xdata = mdates.DateFormatter('%Y-%m-%d')\n",
    "\n",
    "plt.xlabel('Time')\n",
    "plt.ylabel('NKE')\n",
    "\n",
    "\n",
    "plt.grid()\n",
    "\n",
    "plt.show()"
   ]
  },
  {
   "cell_type": "code",
   "execution_count": 172,
   "metadata": {},
   "outputs": [],
   "source": [
    "alpha = capm['alpha']"
   ]
  },
  {
   "cell_type": "code",
   "execution_count": 173,
   "metadata": {},
   "outputs": [
    {
     "data": {
      "text/plain": [
       "-0.00842744326073196"
      ]
     },
     "execution_count": 173,
     "metadata": {},
     "output_type": "execute_result"
    }
   ],
   "source": [
    "np.mean(alpha)"
   ]
  },
  {
   "cell_type": "code",
   "execution_count": 174,
   "metadata": {},
   "outputs": [
    {
     "data": {
      "text/plain": [
       "0.2640921416677302"
      ]
     },
     "execution_count": 174,
     "metadata": {},
     "output_type": "execute_result"
    }
   ],
   "source": [
    "np.std(alpha)"
   ]
  },
  {
   "cell_type": "code",
   "execution_count": 175,
   "metadata": {},
   "outputs": [
    {
     "data": {
      "image/png": "[encoded data removed]",
      "text/plain": [
       "<Figure size 432x288 with 1 Axes>"
      ]
     },
     "metadata": {
      "needs_background": "light"
     },
     "output_type": "display_data"
    }
   ],
   "source": [
    "x=np.linspace(-1.2,1.2,4000)\n",
    "\n",
    "plt.figure(20)\n",
    "plt.hist(pd.to_numeric(alpha), density=True, bins=20)\n",
    "plt.plot(x,sp.norm.pdf(x,np.mean(alpha),np.std(alpha)), color='r')\n",
    "plt.xlabel('alpha')\n",
    "plt.ylabel('Density')\n",
    "plt.grid()\n",
    "plt.show()"
   ]
  },
  {
   "cell_type": "code",
   "execution_count": null,
   "metadata": {},
   "outputs": [],
   "source": []
  }
 ],
 "metadata": {
  "kernelspec": {
   "display_name": "Python 3",
   "language": "python",
   "name": "python3"
  },
  "language_info": {
   "codemirror_mode": {
    "name": "ipython",
    "version": 3
   },
   "file_extension": ".py",
   "mimetype": "text/x-python",
   "name": "python",
   "nbconvert_exporter": "python",
   "pygments_lexer": "ipython3",
   "version": "3.7.6"
  }
 },
 "nbformat": 4,
 "nbformat_minor": 4
}
